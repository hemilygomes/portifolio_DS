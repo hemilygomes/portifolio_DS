{
  "nbformat": 4,
  "nbformat_minor": 0,
  "metadata": {
    "colab": {
      "name": "Consumo_de_cerveja.ipynb",
      "provenance": [],
      "collapsed_sections": [],
      "authorship_tag": "ABX9TyNMxDDZy0+k6oTo807+klX4",
      "include_colab_link": true
    },
    "kernelspec": {
      "name": "python3",
      "display_name": "Python 3"
    },
    "language_info": {
      "name": "python"
    }
  },
  "cells": [
    {
      "cell_type": "markdown",
      "metadata": {
        "id": "view-in-github",
        "colab_type": "text"
      },
      "source": [
        "<a href=\"https://colab.research.google.com/github/hemilygomes/portifolio_DS/blob/main/Consumo_de_cerveja.ipynb\" target=\"_parent\"><img src=\"https://colab.research.google.com/assets/colab-badge.svg\" alt=\"Open In Colab\"/></a>"
      ]
    },
    {
      "cell_type": "markdown",
      "source": [
        "#**Regressão Linear**\n",
        "\n",
        "##**Otimizando a venda de cervejas no Carnaval 2022 (se ele existisse)**\n",
        "\n",
        "***Motivação:*** A cerveja é uma das bebidas mais democráticas e consumidas do mundo. Não sem razão, é perfeito para quase todas as situações, desde happy hour até grandes festas de casamento. Se você só pensar nisso, você já sente vontade de tomar uma cerveja, você não está sozinho. A verdade é que em todo o mundo, milhares de pessoas consomem a bebida regularmente e também em diferentes situações. Mas você já parou para pensar em quais países são os que mais consomem cerveja no mundo? A primeira que lhe veio à cabeça foi a Alemanha? Bem, saiba que não é assim. A resposta a essa pergunta é retumbante: a República Tcheca. Segundo pesquisa da empresa japonesa de bebidas Kirin, o país lidera a tabela de consumo de cerveja per capita por 23 anos consecutivos. Em 2015, o ano mais recente para o qual existem estatísticas disponíveis, os tchecos beberam 142,4 litros por pessoa. Isso é o equivalente a 250 canecas — ou uma a cada 35 horas. Mas, dado que é improvável que os menores contribuam para esse número, é seguro supor que o bebedor médio de cerveja provavelmente bebe um pouco mais. Áustria e Alemanha vêm em terceiro e quarto, Polônia em sexto e Irlanda em sétimo. No entanto, há algumas surpresas. Em segundo lugar estão as Seychelles, uma classificação elevada que atribuímos ao clima quente e ao grande número de turistas.\n",
        "\n",
        "Coletamos alguns dados de São Paulo — Brasil, em uma área universitária, onde existem algumas festas com grupos de alunos de 18 a 28 anos (média) para desenvolver um estudo e precisamos da sua ajuda: Se existisse um carnaval? E eu quisesse escolher o melhor dia para vender cervejas em SP, qual dos dias abaixo você sugeriria e por que?\n",
        "\n",
        "* 26/02/2022\n",
        "* 27/02/2022\n",
        "* 28/02/2022\n",
        "* 01/03/2022\n",
        "* 02/03/2022"
      ],
      "metadata": {
        "id": "tHKLhgXN1QJ2"
      }
    },
    {
      "cell_type": "markdown",
      "source": [
        "##**Coleta e Tratamento dos dados**"
      ],
      "metadata": {
        "id": "qBKHpmus2g1V"
      }
    },
    {
      "cell_type": "markdown",
      "source": [
        "###Comecemos importando as bibliotecas que serão utilizadas:"
      ],
      "metadata": {
        "id": "1kkgJDedVDDA"
      }
    },
    {
      "cell_type": "code",
      "source": [
        "import pandas as pd\n",
        "import numpy as np\n",
        "import seaborn as sns\n",
        "from sklearn.linear_model import LinearRegression\n",
        "from sklearn.preprocessing import PolynomialFeatures\n",
        "import matplotlib.pyplot as plt\n",
        "from sklearn.metrics import r2_score\n",
        "from sklearn.metrics import mean_absolute_error\n",
        "from sklearn.metrics import mean_squared_error\n",
        "from sklearn.model_selection import train_test_split\n",
        "from sklearn.metrics import accuracy_score"
      ],
      "metadata": {
        "id": "LH5Povwo3Kuv"
      },
      "execution_count": null,
      "outputs": []
    },
    {
      "cell_type": "markdown",
      "source": [
        "###Importando a base de dados do github e criando o dataframe:"
      ],
      "metadata": {
        "id": "D8pJFkbVVLXT"
      }
    },
    {
      "cell_type": "code",
      "execution_count": null,
      "metadata": {
        "colab": {
          "base_uri": "https://localhost:8080/",
          "height": 424
        },
        "id": "lUUu340s09HO",
        "outputId": "90edd0ed-828b-4b62-d178-44f19adbac35"
      },
      "outputs": [
        {
          "output_type": "execute_result",
          "data": {
            "text/plain": [
              "           Data Temperatura Media (C) Temperatura Minima (C)  \\\n",
              "0    2015-01-01                  27,3                   23,9   \n",
              "1    2015-01-02                 27,02                   24,5   \n",
              "2    2015-01-03                 24,82                   22,4   \n",
              "3    2015-01-04                 23,98                   21,5   \n",
              "4    2015-01-05                 23,82                     21   \n",
              "..          ...                   ...                    ...   \n",
              "936         NaN                   NaN                    NaN   \n",
              "937         NaN                   NaN                    NaN   \n",
              "938         NaN                   NaN                    NaN   \n",
              "939         NaN                   NaN                    NaN   \n",
              "940         NaN                   NaN                    NaN   \n",
              "\n",
              "    Temperatura Maxima (C) Precipitacao (mm)  Final de Semana  \\\n",
              "0                     32,5                 0              0.0   \n",
              "1                     33,5                 0              0.0   \n",
              "2                     29,9                 0              1.0   \n",
              "3                     28,6               1,2              1.0   \n",
              "4                     28,3                 0              0.0   \n",
              "..                     ...               ...              ...   \n",
              "936                    NaN               NaN              NaN   \n",
              "937                    NaN               NaN              NaN   \n",
              "938                    NaN               NaN              NaN   \n",
              "939                    NaN               NaN              NaN   \n",
              "940                    NaN               NaN              NaN   \n",
              "\n",
              "     Consumo de cerveja (litros)  \n",
              "0                         25.461  \n",
              "1                         28.972  \n",
              "2                         30.814  \n",
              "3                         29.799  \n",
              "4                         28.900  \n",
              "..                           ...  \n",
              "936                          NaN  \n",
              "937                          NaN  \n",
              "938                          NaN  \n",
              "939                          NaN  \n",
              "940                          NaN  \n",
              "\n",
              "[941 rows x 7 columns]"
            ],
            "text/html": [
              "\n",
              "  <div id=\"df-6407197e-fe85-4edd-94b0-4d54264b6e35\">\n",
              "    <div class=\"colab-df-container\">\n",
              "      <div>\n",
              "<style scoped>\n",
              "    .dataframe tbody tr th:only-of-type {\n",
              "        vertical-align: middle;\n",
              "    }\n",
              "\n",
              "    .dataframe tbody tr th {\n",
              "        vertical-align: top;\n",
              "    }\n",
              "\n",
              "    .dataframe thead th {\n",
              "        text-align: right;\n",
              "    }\n",
              "</style>\n",
              "<table border=\"1\" class=\"dataframe\">\n",
              "  <thead>\n",
              "    <tr style=\"text-align: right;\">\n",
              "      <th></th>\n",
              "      <th>Data</th>\n",
              "      <th>Temperatura Media (C)</th>\n",
              "      <th>Temperatura Minima (C)</th>\n",
              "      <th>Temperatura Maxima (C)</th>\n",
              "      <th>Precipitacao (mm)</th>\n",
              "      <th>Final de Semana</th>\n",
              "      <th>Consumo de cerveja (litros)</th>\n",
              "    </tr>\n",
              "  </thead>\n",
              "  <tbody>\n",
              "    <tr>\n",
              "      <th>0</th>\n",
              "      <td>2015-01-01</td>\n",
              "      <td>27,3</td>\n",
              "      <td>23,9</td>\n",
              "      <td>32,5</td>\n",
              "      <td>0</td>\n",
              "      <td>0.0</td>\n",
              "      <td>25.461</td>\n",
              "    </tr>\n",
              "    <tr>\n",
              "      <th>1</th>\n",
              "      <td>2015-01-02</td>\n",
              "      <td>27,02</td>\n",
              "      <td>24,5</td>\n",
              "      <td>33,5</td>\n",
              "      <td>0</td>\n",
              "      <td>0.0</td>\n",
              "      <td>28.972</td>\n",
              "    </tr>\n",
              "    <tr>\n",
              "      <th>2</th>\n",
              "      <td>2015-01-03</td>\n",
              "      <td>24,82</td>\n",
              "      <td>22,4</td>\n",
              "      <td>29,9</td>\n",
              "      <td>0</td>\n",
              "      <td>1.0</td>\n",
              "      <td>30.814</td>\n",
              "    </tr>\n",
              "    <tr>\n",
              "      <th>3</th>\n",
              "      <td>2015-01-04</td>\n",
              "      <td>23,98</td>\n",
              "      <td>21,5</td>\n",
              "      <td>28,6</td>\n",
              "      <td>1,2</td>\n",
              "      <td>1.0</td>\n",
              "      <td>29.799</td>\n",
              "    </tr>\n",
              "    <tr>\n",
              "      <th>4</th>\n",
              "      <td>2015-01-05</td>\n",
              "      <td>23,82</td>\n",
              "      <td>21</td>\n",
              "      <td>28,3</td>\n",
              "      <td>0</td>\n",
              "      <td>0.0</td>\n",
              "      <td>28.900</td>\n",
              "    </tr>\n",
              "    <tr>\n",
              "      <th>...</th>\n",
              "      <td>...</td>\n",
              "      <td>...</td>\n",
              "      <td>...</td>\n",
              "      <td>...</td>\n",
              "      <td>...</td>\n",
              "      <td>...</td>\n",
              "      <td>...</td>\n",
              "    </tr>\n",
              "    <tr>\n",
              "      <th>936</th>\n",
              "      <td>NaN</td>\n",
              "      <td>NaN</td>\n",
              "      <td>NaN</td>\n",
              "      <td>NaN</td>\n",
              "      <td>NaN</td>\n",
              "      <td>NaN</td>\n",
              "      <td>NaN</td>\n",
              "    </tr>\n",
              "    <tr>\n",
              "      <th>937</th>\n",
              "      <td>NaN</td>\n",
              "      <td>NaN</td>\n",
              "      <td>NaN</td>\n",
              "      <td>NaN</td>\n",
              "      <td>NaN</td>\n",
              "      <td>NaN</td>\n",
              "      <td>NaN</td>\n",
              "    </tr>\n",
              "    <tr>\n",
              "      <th>938</th>\n",
              "      <td>NaN</td>\n",
              "      <td>NaN</td>\n",
              "      <td>NaN</td>\n",
              "      <td>NaN</td>\n",
              "      <td>NaN</td>\n",
              "      <td>NaN</td>\n",
              "      <td>NaN</td>\n",
              "    </tr>\n",
              "    <tr>\n",
              "      <th>939</th>\n",
              "      <td>NaN</td>\n",
              "      <td>NaN</td>\n",
              "      <td>NaN</td>\n",
              "      <td>NaN</td>\n",
              "      <td>NaN</td>\n",
              "      <td>NaN</td>\n",
              "      <td>NaN</td>\n",
              "    </tr>\n",
              "    <tr>\n",
              "      <th>940</th>\n",
              "      <td>NaN</td>\n",
              "      <td>NaN</td>\n",
              "      <td>NaN</td>\n",
              "      <td>NaN</td>\n",
              "      <td>NaN</td>\n",
              "      <td>NaN</td>\n",
              "      <td>NaN</td>\n",
              "    </tr>\n",
              "  </tbody>\n",
              "</table>\n",
              "<p>941 rows × 7 columns</p>\n",
              "</div>\n",
              "      <button class=\"colab-df-convert\" onclick=\"convertToInteractive('df-6407197e-fe85-4edd-94b0-4d54264b6e35')\"\n",
              "              title=\"Convert this dataframe to an interactive table.\"\n",
              "              style=\"display:none;\">\n",
              "        \n",
              "  <svg xmlns=\"http://www.w3.org/2000/svg\" height=\"24px\"viewBox=\"0 0 24 24\"\n",
              "       width=\"24px\">\n",
              "    <path d=\"M0 0h24v24H0V0z\" fill=\"none\"/>\n",
              "    <path d=\"M18.56 5.44l.94 2.06.94-2.06 2.06-.94-2.06-.94-.94-2.06-.94 2.06-2.06.94zm-11 1L8.5 8.5l.94-2.06 2.06-.94-2.06-.94L8.5 2.5l-.94 2.06-2.06.94zm10 10l.94 2.06.94-2.06 2.06-.94-2.06-.94-.94-2.06-.94 2.06-2.06.94z\"/><path d=\"M17.41 7.96l-1.37-1.37c-.4-.4-.92-.59-1.43-.59-.52 0-1.04.2-1.43.59L10.3 9.45l-7.72 7.72c-.78.78-.78 2.05 0 2.83L4 21.41c.39.39.9.59 1.41.59.51 0 1.02-.2 1.41-.59l7.78-7.78 2.81-2.81c.8-.78.8-2.07 0-2.86zM5.41 20L4 18.59l7.72-7.72 1.47 1.35L5.41 20z\"/>\n",
              "  </svg>\n",
              "      </button>\n",
              "      \n",
              "  <style>\n",
              "    .colab-df-container {\n",
              "      display:flex;\n",
              "      flex-wrap:wrap;\n",
              "      gap: 12px;\n",
              "    }\n",
              "\n",
              "    .colab-df-convert {\n",
              "      background-color: #E8F0FE;\n",
              "      border: none;\n",
              "      border-radius: 50%;\n",
              "      cursor: pointer;\n",
              "      display: none;\n",
              "      fill: #1967D2;\n",
              "      height: 32px;\n",
              "      padding: 0 0 0 0;\n",
              "      width: 32px;\n",
              "    }\n",
              "\n",
              "    .colab-df-convert:hover {\n",
              "      background-color: #E2EBFA;\n",
              "      box-shadow: 0px 1px 2px rgba(60, 64, 67, 0.3), 0px 1px 3px 1px rgba(60, 64, 67, 0.15);\n",
              "      fill: #174EA6;\n",
              "    }\n",
              "\n",
              "    [theme=dark] .colab-df-convert {\n",
              "      background-color: #3B4455;\n",
              "      fill: #D2E3FC;\n",
              "    }\n",
              "\n",
              "    [theme=dark] .colab-df-convert:hover {\n",
              "      background-color: #434B5C;\n",
              "      box-shadow: 0px 1px 3px 1px rgba(0, 0, 0, 0.15);\n",
              "      filter: drop-shadow(0px 1px 2px rgba(0, 0, 0, 0.3));\n",
              "      fill: #FFFFFF;\n",
              "    }\n",
              "  </style>\n",
              "\n",
              "      <script>\n",
              "        const buttonEl =\n",
              "          document.querySelector('#df-6407197e-fe85-4edd-94b0-4d54264b6e35 button.colab-df-convert');\n",
              "        buttonEl.style.display =\n",
              "          google.colab.kernel.accessAllowed ? 'block' : 'none';\n",
              "\n",
              "        async function convertToInteractive(key) {\n",
              "          const element = document.querySelector('#df-6407197e-fe85-4edd-94b0-4d54264b6e35');\n",
              "          const dataTable =\n",
              "            await google.colab.kernel.invokeFunction('convertToInteractive',\n",
              "                                                     [key], {});\n",
              "          if (!dataTable) return;\n",
              "\n",
              "          const docLinkHtml = 'Like what you see? Visit the ' +\n",
              "            '<a target=\"_blank\" href=https://colab.research.google.com/notebooks/data_table.ipynb>data table notebook</a>'\n",
              "            + ' to learn more about interactive tables.';\n",
              "          element.innerHTML = '';\n",
              "          dataTable['output_type'] = 'display_data';\n",
              "          await google.colab.output.renderOutput(dataTable, element);\n",
              "          const docLink = document.createElement('div');\n",
              "          docLink.innerHTML = docLinkHtml;\n",
              "          element.appendChild(docLink);\n",
              "        }\n",
              "      </script>\n",
              "    </div>\n",
              "  </div>\n",
              "  "
            ]
          },
          "metadata": {},
          "execution_count": 3
        }
      ],
      "source": [
        "df = pd.read_csv('https://raw.githubusercontent.com/hemilygomes/portifolio_DS/main/consumo_cerveja.csv')\n",
        "df"
      ]
    },
    {
      "cell_type": "markdown",
      "source": [
        "###O dataset acima possui alguns dados climáticos de uma determinada região de São Paulo para todos os dias do ano de 2015 e também a informação se o dia em questão é final de semana (1) ou não (0)."
      ],
      "metadata": {
        "id": "GFTL64Y1VQbv"
      }
    },
    {
      "cell_type": "markdown",
      "source": [
        "###Para começar a tratar o dataframe, vamos excluir as linhas em que todos os valores são do tipo nulo."
      ],
      "metadata": {
        "id": "lNw8Ng8BVcTq"
      }
    },
    {
      "cell_type": "code",
      "source": [
        "df.dropna(how='all',inplace=True)"
      ],
      "metadata": {
        "id": "6KKpTPkC4fSQ"
      },
      "execution_count": null,
      "outputs": []
    },
    {
      "cell_type": "code",
      "source": [
        "df"
      ],
      "metadata": {
        "colab": {
          "base_uri": "https://localhost:8080/",
          "height": 424
        },
        "id": "TiXxqr5Q4yDY",
        "outputId": "80bc1b04-0a96-4259-e798-d062844e5c3f"
      },
      "execution_count": null,
      "outputs": [
        {
          "output_type": "execute_result",
          "data": {
            "text/plain": [
              "           Data Temperatura Media (C) Temperatura Minima (C)  \\\n",
              "0    2015-01-01                  27,3                   23,9   \n",
              "1    2015-01-02                 27,02                   24,5   \n",
              "2    2015-01-03                 24,82                   22,4   \n",
              "3    2015-01-04                 23,98                   21,5   \n",
              "4    2015-01-05                 23,82                     21   \n",
              "..          ...                   ...                    ...   \n",
              "360  2015-12-27                    24                   21,1   \n",
              "361  2015-12-28                 22,64                   21,1   \n",
              "362  2015-12-29                 21,68                   20,3   \n",
              "363  2015-12-30                 21,38                   19,3   \n",
              "364  2015-12-31                 24,76                   20,2   \n",
              "\n",
              "    Temperatura Maxima (C) Precipitacao (mm)  Final de Semana  \\\n",
              "0                     32,5                 0              0.0   \n",
              "1                     33,5                 0              0.0   \n",
              "2                     29,9                 0              1.0   \n",
              "3                     28,6               1,2              1.0   \n",
              "4                     28,3                 0              0.0   \n",
              "..                     ...               ...              ...   \n",
              "360                   28,2              13,6              1.0   \n",
              "361                   26,7                 0              0.0   \n",
              "362                   24,1              10,3              0.0   \n",
              "363                   22,4               6,3              0.0   \n",
              "364                     29                 0              0.0   \n",
              "\n",
              "     Consumo de cerveja (litros)  \n",
              "0                         25.461  \n",
              "1                         28.972  \n",
              "2                         30.814  \n",
              "3                         29.799  \n",
              "4                         28.900  \n",
              "..                           ...  \n",
              "360                       32.307  \n",
              "361                       26.095  \n",
              "362                       22.309  \n",
              "363                       20.467  \n",
              "364                       22.446  \n",
              "\n",
              "[365 rows x 7 columns]"
            ],
            "text/html": [
              "\n",
              "  <div id=\"df-2f2ffa7c-e3c9-4293-a1f6-4f559dafc89d\">\n",
              "    <div class=\"colab-df-container\">\n",
              "      <div>\n",
              "<style scoped>\n",
              "    .dataframe tbody tr th:only-of-type {\n",
              "        vertical-align: middle;\n",
              "    }\n",
              "\n",
              "    .dataframe tbody tr th {\n",
              "        vertical-align: top;\n",
              "    }\n",
              "\n",
              "    .dataframe thead th {\n",
              "        text-align: right;\n",
              "    }\n",
              "</style>\n",
              "<table border=\"1\" class=\"dataframe\">\n",
              "  <thead>\n",
              "    <tr style=\"text-align: right;\">\n",
              "      <th></th>\n",
              "      <th>Data</th>\n",
              "      <th>Temperatura Media (C)</th>\n",
              "      <th>Temperatura Minima (C)</th>\n",
              "      <th>Temperatura Maxima (C)</th>\n",
              "      <th>Precipitacao (mm)</th>\n",
              "      <th>Final de Semana</th>\n",
              "      <th>Consumo de cerveja (litros)</th>\n",
              "    </tr>\n",
              "  </thead>\n",
              "  <tbody>\n",
              "    <tr>\n",
              "      <th>0</th>\n",
              "      <td>2015-01-01</td>\n",
              "      <td>27,3</td>\n",
              "      <td>23,9</td>\n",
              "      <td>32,5</td>\n",
              "      <td>0</td>\n",
              "      <td>0.0</td>\n",
              "      <td>25.461</td>\n",
              "    </tr>\n",
              "    <tr>\n",
              "      <th>1</th>\n",
              "      <td>2015-01-02</td>\n",
              "      <td>27,02</td>\n",
              "      <td>24,5</td>\n",
              "      <td>33,5</td>\n",
              "      <td>0</td>\n",
              "      <td>0.0</td>\n",
              "      <td>28.972</td>\n",
              "    </tr>\n",
              "    <tr>\n",
              "      <th>2</th>\n",
              "      <td>2015-01-03</td>\n",
              "      <td>24,82</td>\n",
              "      <td>22,4</td>\n",
              "      <td>29,9</td>\n",
              "      <td>0</td>\n",
              "      <td>1.0</td>\n",
              "      <td>30.814</td>\n",
              "    </tr>\n",
              "    <tr>\n",
              "      <th>3</th>\n",
              "      <td>2015-01-04</td>\n",
              "      <td>23,98</td>\n",
              "      <td>21,5</td>\n",
              "      <td>28,6</td>\n",
              "      <td>1,2</td>\n",
              "      <td>1.0</td>\n",
              "      <td>29.799</td>\n",
              "    </tr>\n",
              "    <tr>\n",
              "      <th>4</th>\n",
              "      <td>2015-01-05</td>\n",
              "      <td>23,82</td>\n",
              "      <td>21</td>\n",
              "      <td>28,3</td>\n",
              "      <td>0</td>\n",
              "      <td>0.0</td>\n",
              "      <td>28.900</td>\n",
              "    </tr>\n",
              "    <tr>\n",
              "      <th>...</th>\n",
              "      <td>...</td>\n",
              "      <td>...</td>\n",
              "      <td>...</td>\n",
              "      <td>...</td>\n",
              "      <td>...</td>\n",
              "      <td>...</td>\n",
              "      <td>...</td>\n",
              "    </tr>\n",
              "    <tr>\n",
              "      <th>360</th>\n",
              "      <td>2015-12-27</td>\n",
              "      <td>24</td>\n",
              "      <td>21,1</td>\n",
              "      <td>28,2</td>\n",
              "      <td>13,6</td>\n",
              "      <td>1.0</td>\n",
              "      <td>32.307</td>\n",
              "    </tr>\n",
              "    <tr>\n",
              "      <th>361</th>\n",
              "      <td>2015-12-28</td>\n",
              "      <td>22,64</td>\n",
              "      <td>21,1</td>\n",
              "      <td>26,7</td>\n",
              "      <td>0</td>\n",
              "      <td>0.0</td>\n",
              "      <td>26.095</td>\n",
              "    </tr>\n",
              "    <tr>\n",
              "      <th>362</th>\n",
              "      <td>2015-12-29</td>\n",
              "      <td>21,68</td>\n",
              "      <td>20,3</td>\n",
              "      <td>24,1</td>\n",
              "      <td>10,3</td>\n",
              "      <td>0.0</td>\n",
              "      <td>22.309</td>\n",
              "    </tr>\n",
              "    <tr>\n",
              "      <th>363</th>\n",
              "      <td>2015-12-30</td>\n",
              "      <td>21,38</td>\n",
              "      <td>19,3</td>\n",
              "      <td>22,4</td>\n",
              "      <td>6,3</td>\n",
              "      <td>0.0</td>\n",
              "      <td>20.467</td>\n",
              "    </tr>\n",
              "    <tr>\n",
              "      <th>364</th>\n",
              "      <td>2015-12-31</td>\n",
              "      <td>24,76</td>\n",
              "      <td>20,2</td>\n",
              "      <td>29</td>\n",
              "      <td>0</td>\n",
              "      <td>0.0</td>\n",
              "      <td>22.446</td>\n",
              "    </tr>\n",
              "  </tbody>\n",
              "</table>\n",
              "<p>365 rows × 7 columns</p>\n",
              "</div>\n",
              "      <button class=\"colab-df-convert\" onclick=\"convertToInteractive('df-2f2ffa7c-e3c9-4293-a1f6-4f559dafc89d')\"\n",
              "              title=\"Convert this dataframe to an interactive table.\"\n",
              "              style=\"display:none;\">\n",
              "        \n",
              "  <svg xmlns=\"http://www.w3.org/2000/svg\" height=\"24px\"viewBox=\"0 0 24 24\"\n",
              "       width=\"24px\">\n",
              "    <path d=\"M0 0h24v24H0V0z\" fill=\"none\"/>\n",
              "    <path d=\"M18.56 5.44l.94 2.06.94-2.06 2.06-.94-2.06-.94-.94-2.06-.94 2.06-2.06.94zm-11 1L8.5 8.5l.94-2.06 2.06-.94-2.06-.94L8.5 2.5l-.94 2.06-2.06.94zm10 10l.94 2.06.94-2.06 2.06-.94-2.06-.94-.94-2.06-.94 2.06-2.06.94z\"/><path d=\"M17.41 7.96l-1.37-1.37c-.4-.4-.92-.59-1.43-.59-.52 0-1.04.2-1.43.59L10.3 9.45l-7.72 7.72c-.78.78-.78 2.05 0 2.83L4 21.41c.39.39.9.59 1.41.59.51 0 1.02-.2 1.41-.59l7.78-7.78 2.81-2.81c.8-.78.8-2.07 0-2.86zM5.41 20L4 18.59l7.72-7.72 1.47 1.35L5.41 20z\"/>\n",
              "  </svg>\n",
              "      </button>\n",
              "      \n",
              "  <style>\n",
              "    .colab-df-container {\n",
              "      display:flex;\n",
              "      flex-wrap:wrap;\n",
              "      gap: 12px;\n",
              "    }\n",
              "\n",
              "    .colab-df-convert {\n",
              "      background-color: #E8F0FE;\n",
              "      border: none;\n",
              "      border-radius: 50%;\n",
              "      cursor: pointer;\n",
              "      display: none;\n",
              "      fill: #1967D2;\n",
              "      height: 32px;\n",
              "      padding: 0 0 0 0;\n",
              "      width: 32px;\n",
              "    }\n",
              "\n",
              "    .colab-df-convert:hover {\n",
              "      background-color: #E2EBFA;\n",
              "      box-shadow: 0px 1px 2px rgba(60, 64, 67, 0.3), 0px 1px 3px 1px rgba(60, 64, 67, 0.15);\n",
              "      fill: #174EA6;\n",
              "    }\n",
              "\n",
              "    [theme=dark] .colab-df-convert {\n",
              "      background-color: #3B4455;\n",
              "      fill: #D2E3FC;\n",
              "    }\n",
              "\n",
              "    [theme=dark] .colab-df-convert:hover {\n",
              "      background-color: #434B5C;\n",
              "      box-shadow: 0px 1px 3px 1px rgba(0, 0, 0, 0.15);\n",
              "      filter: drop-shadow(0px 1px 2px rgba(0, 0, 0, 0.3));\n",
              "      fill: #FFFFFF;\n",
              "    }\n",
              "  </style>\n",
              "\n",
              "      <script>\n",
              "        const buttonEl =\n",
              "          document.querySelector('#df-2f2ffa7c-e3c9-4293-a1f6-4f559dafc89d button.colab-df-convert');\n",
              "        buttonEl.style.display =\n",
              "          google.colab.kernel.accessAllowed ? 'block' : 'none';\n",
              "\n",
              "        async function convertToInteractive(key) {\n",
              "          const element = document.querySelector('#df-2f2ffa7c-e3c9-4293-a1f6-4f559dafc89d');\n",
              "          const dataTable =\n",
              "            await google.colab.kernel.invokeFunction('convertToInteractive',\n",
              "                                                     [key], {});\n",
              "          if (!dataTable) return;\n",
              "\n",
              "          const docLinkHtml = 'Like what you see? Visit the ' +\n",
              "            '<a target=\"_blank\" href=https://colab.research.google.com/notebooks/data_table.ipynb>data table notebook</a>'\n",
              "            + ' to learn more about interactive tables.';\n",
              "          element.innerHTML = '';\n",
              "          dataTable['output_type'] = 'display_data';\n",
              "          await google.colab.output.renderOutput(dataTable, element);\n",
              "          const docLink = document.createElement('div');\n",
              "          docLink.innerHTML = docLinkHtml;\n",
              "          element.appendChild(docLink);\n",
              "        }\n",
              "      </script>\n",
              "    </div>\n",
              "  </div>\n",
              "  "
            ]
          },
          "metadata": {},
          "execution_count": 6
        }
      ]
    },
    {
      "cell_type": "markdown",
      "source": [
        "###A fim de padronizar o dataframe, vamos retirar os espaços dos nomes das colunas e deixar tudo em minúsculo:"
      ],
      "metadata": {
        "id": "DrdRlWUBVj5x"
      }
    },
    {
      "cell_type": "code",
      "source": [
        "df.columns = df.columns.str.replace(' ', '_') \n",
        "df.columns = df.columns.str.lower()"
      ],
      "metadata": {
        "id": "DlUeNY6341nQ"
      },
      "execution_count": null,
      "outputs": []
    },
    {
      "cell_type": "code",
      "source": [
        "df"
      ],
      "metadata": {
        "colab": {
          "base_uri": "https://localhost:8080/",
          "height": 424
        },
        "id": "qj6-2-s55Wlw",
        "outputId": "21952464-ee0d-49e6-c7ba-374aa56b1702"
      },
      "execution_count": null,
      "outputs": [
        {
          "output_type": "execute_result",
          "data": {
            "text/plain": [
              "           data temperatura_media_(c) temperatura_minima_(c)  \\\n",
              "0    2015-01-01                  27,3                   23,9   \n",
              "1    2015-01-02                 27,02                   24,5   \n",
              "2    2015-01-03                 24,82                   22,4   \n",
              "3    2015-01-04                 23,98                   21,5   \n",
              "4    2015-01-05                 23,82                     21   \n",
              "..          ...                   ...                    ...   \n",
              "360  2015-12-27                    24                   21,1   \n",
              "361  2015-12-28                 22,64                   21,1   \n",
              "362  2015-12-29                 21,68                   20,3   \n",
              "363  2015-12-30                 21,38                   19,3   \n",
              "364  2015-12-31                 24,76                   20,2   \n",
              "\n",
              "    temperatura_maxima_(c) precipitacao_(mm)  final_de_semana  \\\n",
              "0                     32,5                 0              0.0   \n",
              "1                     33,5                 0              0.0   \n",
              "2                     29,9                 0              1.0   \n",
              "3                     28,6               1,2              1.0   \n",
              "4                     28,3                 0              0.0   \n",
              "..                     ...               ...              ...   \n",
              "360                   28,2              13,6              1.0   \n",
              "361                   26,7                 0              0.0   \n",
              "362                   24,1              10,3              0.0   \n",
              "363                   22,4               6,3              0.0   \n",
              "364                     29                 0              0.0   \n",
              "\n",
              "     consumo_de_cerveja_(litros)  \n",
              "0                         25.461  \n",
              "1                         28.972  \n",
              "2                         30.814  \n",
              "3                         29.799  \n",
              "4                         28.900  \n",
              "..                           ...  \n",
              "360                       32.307  \n",
              "361                       26.095  \n",
              "362                       22.309  \n",
              "363                       20.467  \n",
              "364                       22.446  \n",
              "\n",
              "[365 rows x 7 columns]"
            ],
            "text/html": [
              "\n",
              "  <div id=\"df-1cfe60fc-58db-4733-9f3e-c4207357becd\">\n",
              "    <div class=\"colab-df-container\">\n",
              "      <div>\n",
              "<style scoped>\n",
              "    .dataframe tbody tr th:only-of-type {\n",
              "        vertical-align: middle;\n",
              "    }\n",
              "\n",
              "    .dataframe tbody tr th {\n",
              "        vertical-align: top;\n",
              "    }\n",
              "\n",
              "    .dataframe thead th {\n",
              "        text-align: right;\n",
              "    }\n",
              "</style>\n",
              "<table border=\"1\" class=\"dataframe\">\n",
              "  <thead>\n",
              "    <tr style=\"text-align: right;\">\n",
              "      <th></th>\n",
              "      <th>data</th>\n",
              "      <th>temperatura_media_(c)</th>\n",
              "      <th>temperatura_minima_(c)</th>\n",
              "      <th>temperatura_maxima_(c)</th>\n",
              "      <th>precipitacao_(mm)</th>\n",
              "      <th>final_de_semana</th>\n",
              "      <th>consumo_de_cerveja_(litros)</th>\n",
              "    </tr>\n",
              "  </thead>\n",
              "  <tbody>\n",
              "    <tr>\n",
              "      <th>0</th>\n",
              "      <td>2015-01-01</td>\n",
              "      <td>27,3</td>\n",
              "      <td>23,9</td>\n",
              "      <td>32,5</td>\n",
              "      <td>0</td>\n",
              "      <td>0.0</td>\n",
              "      <td>25.461</td>\n",
              "    </tr>\n",
              "    <tr>\n",
              "      <th>1</th>\n",
              "      <td>2015-01-02</td>\n",
              "      <td>27,02</td>\n",
              "      <td>24,5</td>\n",
              "      <td>33,5</td>\n",
              "      <td>0</td>\n",
              "      <td>0.0</td>\n",
              "      <td>28.972</td>\n",
              "    </tr>\n",
              "    <tr>\n",
              "      <th>2</th>\n",
              "      <td>2015-01-03</td>\n",
              "      <td>24,82</td>\n",
              "      <td>22,4</td>\n",
              "      <td>29,9</td>\n",
              "      <td>0</td>\n",
              "      <td>1.0</td>\n",
              "      <td>30.814</td>\n",
              "    </tr>\n",
              "    <tr>\n",
              "      <th>3</th>\n",
              "      <td>2015-01-04</td>\n",
              "      <td>23,98</td>\n",
              "      <td>21,5</td>\n",
              "      <td>28,6</td>\n",
              "      <td>1,2</td>\n",
              "      <td>1.0</td>\n",
              "      <td>29.799</td>\n",
              "    </tr>\n",
              "    <tr>\n",
              "      <th>4</th>\n",
              "      <td>2015-01-05</td>\n",
              "      <td>23,82</td>\n",
              "      <td>21</td>\n",
              "      <td>28,3</td>\n",
              "      <td>0</td>\n",
              "      <td>0.0</td>\n",
              "      <td>28.900</td>\n",
              "    </tr>\n",
              "    <tr>\n",
              "      <th>...</th>\n",
              "      <td>...</td>\n",
              "      <td>...</td>\n",
              "      <td>...</td>\n",
              "      <td>...</td>\n",
              "      <td>...</td>\n",
              "      <td>...</td>\n",
              "      <td>...</td>\n",
              "    </tr>\n",
              "    <tr>\n",
              "      <th>360</th>\n",
              "      <td>2015-12-27</td>\n",
              "      <td>24</td>\n",
              "      <td>21,1</td>\n",
              "      <td>28,2</td>\n",
              "      <td>13,6</td>\n",
              "      <td>1.0</td>\n",
              "      <td>32.307</td>\n",
              "    </tr>\n",
              "    <tr>\n",
              "      <th>361</th>\n",
              "      <td>2015-12-28</td>\n",
              "      <td>22,64</td>\n",
              "      <td>21,1</td>\n",
              "      <td>26,7</td>\n",
              "      <td>0</td>\n",
              "      <td>0.0</td>\n",
              "      <td>26.095</td>\n",
              "    </tr>\n",
              "    <tr>\n",
              "      <th>362</th>\n",
              "      <td>2015-12-29</td>\n",
              "      <td>21,68</td>\n",
              "      <td>20,3</td>\n",
              "      <td>24,1</td>\n",
              "      <td>10,3</td>\n",
              "      <td>0.0</td>\n",
              "      <td>22.309</td>\n",
              "    </tr>\n",
              "    <tr>\n",
              "      <th>363</th>\n",
              "      <td>2015-12-30</td>\n",
              "      <td>21,38</td>\n",
              "      <td>19,3</td>\n",
              "      <td>22,4</td>\n",
              "      <td>6,3</td>\n",
              "      <td>0.0</td>\n",
              "      <td>20.467</td>\n",
              "    </tr>\n",
              "    <tr>\n",
              "      <th>364</th>\n",
              "      <td>2015-12-31</td>\n",
              "      <td>24,76</td>\n",
              "      <td>20,2</td>\n",
              "      <td>29</td>\n",
              "      <td>0</td>\n",
              "      <td>0.0</td>\n",
              "      <td>22.446</td>\n",
              "    </tr>\n",
              "  </tbody>\n",
              "</table>\n",
              "<p>365 rows × 7 columns</p>\n",
              "</div>\n",
              "      <button class=\"colab-df-convert\" onclick=\"convertToInteractive('df-1cfe60fc-58db-4733-9f3e-c4207357becd')\"\n",
              "              title=\"Convert this dataframe to an interactive table.\"\n",
              "              style=\"display:none;\">\n",
              "        \n",
              "  <svg xmlns=\"http://www.w3.org/2000/svg\" height=\"24px\"viewBox=\"0 0 24 24\"\n",
              "       width=\"24px\">\n",
              "    <path d=\"M0 0h24v24H0V0z\" fill=\"none\"/>\n",
              "    <path d=\"M18.56 5.44l.94 2.06.94-2.06 2.06-.94-2.06-.94-.94-2.06-.94 2.06-2.06.94zm-11 1L8.5 8.5l.94-2.06 2.06-.94-2.06-.94L8.5 2.5l-.94 2.06-2.06.94zm10 10l.94 2.06.94-2.06 2.06-.94-2.06-.94-.94-2.06-.94 2.06-2.06.94z\"/><path d=\"M17.41 7.96l-1.37-1.37c-.4-.4-.92-.59-1.43-.59-.52 0-1.04.2-1.43.59L10.3 9.45l-7.72 7.72c-.78.78-.78 2.05 0 2.83L4 21.41c.39.39.9.59 1.41.59.51 0 1.02-.2 1.41-.59l7.78-7.78 2.81-2.81c.8-.78.8-2.07 0-2.86zM5.41 20L4 18.59l7.72-7.72 1.47 1.35L5.41 20z\"/>\n",
              "  </svg>\n",
              "      </button>\n",
              "      \n",
              "  <style>\n",
              "    .colab-df-container {\n",
              "      display:flex;\n",
              "      flex-wrap:wrap;\n",
              "      gap: 12px;\n",
              "    }\n",
              "\n",
              "    .colab-df-convert {\n",
              "      background-color: #E8F0FE;\n",
              "      border: none;\n",
              "      border-radius: 50%;\n",
              "      cursor: pointer;\n",
              "      display: none;\n",
              "      fill: #1967D2;\n",
              "      height: 32px;\n",
              "      padding: 0 0 0 0;\n",
              "      width: 32px;\n",
              "    }\n",
              "\n",
              "    .colab-df-convert:hover {\n",
              "      background-color: #E2EBFA;\n",
              "      box-shadow: 0px 1px 2px rgba(60, 64, 67, 0.3), 0px 1px 3px 1px rgba(60, 64, 67, 0.15);\n",
              "      fill: #174EA6;\n",
              "    }\n",
              "\n",
              "    [theme=dark] .colab-df-convert {\n",
              "      background-color: #3B4455;\n",
              "      fill: #D2E3FC;\n",
              "    }\n",
              "\n",
              "    [theme=dark] .colab-df-convert:hover {\n",
              "      background-color: #434B5C;\n",
              "      box-shadow: 0px 1px 3px 1px rgba(0, 0, 0, 0.15);\n",
              "      filter: drop-shadow(0px 1px 2px rgba(0, 0, 0, 0.3));\n",
              "      fill: #FFFFFF;\n",
              "    }\n",
              "  </style>\n",
              "\n",
              "      <script>\n",
              "        const buttonEl =\n",
              "          document.querySelector('#df-1cfe60fc-58db-4733-9f3e-c4207357becd button.colab-df-convert');\n",
              "        buttonEl.style.display =\n",
              "          google.colab.kernel.accessAllowed ? 'block' : 'none';\n",
              "\n",
              "        async function convertToInteractive(key) {\n",
              "          const element = document.querySelector('#df-1cfe60fc-58db-4733-9f3e-c4207357becd');\n",
              "          const dataTable =\n",
              "            await google.colab.kernel.invokeFunction('convertToInteractive',\n",
              "                                                     [key], {});\n",
              "          if (!dataTable) return;\n",
              "\n",
              "          const docLinkHtml = 'Like what you see? Visit the ' +\n",
              "            '<a target=\"_blank\" href=https://colab.research.google.com/notebooks/data_table.ipynb>data table notebook</a>'\n",
              "            + ' to learn more about interactive tables.';\n",
              "          element.innerHTML = '';\n",
              "          dataTable['output_type'] = 'display_data';\n",
              "          await google.colab.output.renderOutput(dataTable, element);\n",
              "          const docLink = document.createElement('div');\n",
              "          docLink.innerHTML = docLinkHtml;\n",
              "          element.appendChild(docLink);\n",
              "        }\n",
              "      </script>\n",
              "    </div>\n",
              "  </div>\n",
              "  "
            ]
          },
          "metadata": {},
          "execution_count": 8
        }
      ]
    },
    {
      "cell_type": "code",
      "source": [
        "df.info()"
      ],
      "metadata": {
        "colab": {
          "base_uri": "https://localhost:8080/"
        },
        "id": "5kNXr6xQ5XPA",
        "outputId": "37a07b76-1020-4e76-982f-4bc3d406fae4"
      },
      "execution_count": null,
      "outputs": [
        {
          "output_type": "stream",
          "name": "stdout",
          "text": [
            "<class 'pandas.core.frame.DataFrame'>\n",
            "Int64Index: 365 entries, 0 to 364\n",
            "Data columns (total 7 columns):\n",
            " #   Column                       Non-Null Count  Dtype  \n",
            "---  ------                       --------------  -----  \n",
            " 0   data                         365 non-null    object \n",
            " 1   temperatura_media_(c)        365 non-null    object \n",
            " 2   temperatura_minima_(c)       365 non-null    object \n",
            " 3   temperatura_maxima_(c)       365 non-null    object \n",
            " 4   precipitacao_(mm)            365 non-null    object \n",
            " 5   final_de_semana              365 non-null    float64\n",
            " 6   consumo_de_cerveja_(litros)  365 non-null    float64\n",
            "dtypes: float64(2), object(5)\n",
            "memory usage: 22.8+ KB\n"
          ]
        }
      ]
    },
    {
      "cell_type": "markdown",
      "source": [
        "###É possível ver que não há mais valores nulos no dataframe. Porém, algumas colunas que deveriam ser numéricas são do tipo 'object'. Vamos, então, fazer a conversão apropriada. \n",
        "\n",
        "###Primeiramente, vamos converter o campo 'Data' para o tipo 'datetime':"
      ],
      "metadata": {
        "id": "fJVES3TTVpu7"
      }
    },
    {
      "cell_type": "code",
      "source": [
        "df['data'] = pd.to_datetime(df['data'], format=\"%Y/%m/%d\")"
      ],
      "metadata": {
        "id": "b7UKuAQ752gQ"
      },
      "execution_count": null,
      "outputs": []
    },
    {
      "cell_type": "markdown",
      "source": [
        "###Os dados de temperatura e de precipitação devem ser convertidos para Float. Ao se tentar fazer isso diretamente, ocorre um erro devido ao separador decimal ser 'vírgula'. Precisamos fazer a troca para 'ponto'."
      ],
      "metadata": {
        "id": "G8adLsv3VxPq"
      }
    },
    {
      "cell_type": "code",
      "source": [
        "df['temperatura_media_(c)'] = df['temperatura_media_(c)'].str.replace(',', '.')\n",
        "df['temperatura_minima_(c)'] = df['temperatura_minima_(c)'].str.replace(',', '.')\n",
        "df['temperatura_maxima_(c)'] = df['temperatura_maxima_(c)'].str.replace(',', '.')\n",
        "df['precipitacao_(mm)'] = df['precipitacao_(mm)'].str.replace(',', '.')"
      ],
      "metadata": {
        "id": "lOX1Nc4i6S-Y"
      },
      "execution_count": null,
      "outputs": []
    },
    {
      "cell_type": "markdown",
      "source": [
        "###Em seguida, fazemos a conversão para 'float':"
      ],
      "metadata": {
        "id": "OQsNlxX3WWkm"
      }
    },
    {
      "cell_type": "code",
      "source": [
        "df.loc[:,'temperatura_media_(c)':'precipitacao_(mm)'] = df.loc[:,'temperatura_media_(c)':'precipitacao_(mm)'].astype(float, errors = 'raise')"
      ],
      "metadata": {
        "id": "WmrZcmrv6t56"
      },
      "execution_count": null,
      "outputs": []
    },
    {
      "cell_type": "code",
      "source": [
        "df.info()"
      ],
      "metadata": {
        "colab": {
          "base_uri": "https://localhost:8080/"
        },
        "id": "khM6NFi976AS",
        "outputId": "50d66c23-20d1-4a47-812e-a21df08e6c54"
      },
      "execution_count": null,
      "outputs": [
        {
          "output_type": "stream",
          "name": "stdout",
          "text": [
            "<class 'pandas.core.frame.DataFrame'>\n",
            "Int64Index: 365 entries, 0 to 364\n",
            "Data columns (total 7 columns):\n",
            " #   Column                       Non-Null Count  Dtype         \n",
            "---  ------                       --------------  -----         \n",
            " 0   data                         365 non-null    datetime64[ns]\n",
            " 1   temperatura_media_(c)        365 non-null    float64       \n",
            " 2   temperatura_minima_(c)       365 non-null    float64       \n",
            " 3   temperatura_maxima_(c)       365 non-null    float64       \n",
            " 4   precipitacao_(mm)            365 non-null    float64       \n",
            " 5   final_de_semana              365 non-null    float64       \n",
            " 6   consumo_de_cerveja_(litros)  365 non-null    float64       \n",
            "dtypes: datetime64[ns](1), float64(6)\n",
            "memory usage: 22.8 KB\n"
          ]
        }
      ]
    },
    {
      "cell_type": "markdown",
      "source": [
        "###Notemos que os tipos de dados agora estão corretos e o dataframe após o tratamento é o seguinte:"
      ],
      "metadata": {
        "id": "Mef9I35jWdac"
      }
    },
    {
      "cell_type": "code",
      "source": [
        "df"
      ],
      "metadata": {
        "colab": {
          "base_uri": "https://localhost:8080/",
          "height": 424
        },
        "id": "tVAK1jpw7Nbh",
        "outputId": "bd4888e8-2a51-4e25-c8ce-d8aab61cf15c"
      },
      "execution_count": null,
      "outputs": [
        {
          "output_type": "execute_result",
          "data": {
            "text/plain": [
              "          data  temperatura_media_(c)  temperatura_minima_(c)  \\\n",
              "0   2015-01-01                  27.30                    23.9   \n",
              "1   2015-01-02                  27.02                    24.5   \n",
              "2   2015-01-03                  24.82                    22.4   \n",
              "3   2015-01-04                  23.98                    21.5   \n",
              "4   2015-01-05                  23.82                    21.0   \n",
              "..         ...                    ...                     ...   \n",
              "360 2015-12-27                  24.00                    21.1   \n",
              "361 2015-12-28                  22.64                    21.1   \n",
              "362 2015-12-29                  21.68                    20.3   \n",
              "363 2015-12-30                  21.38                    19.3   \n",
              "364 2015-12-31                  24.76                    20.2   \n",
              "\n",
              "     temperatura_maxima_(c)  precipitacao_(mm)  final_de_semana  \\\n",
              "0                      32.5                0.0              0.0   \n",
              "1                      33.5                0.0              0.0   \n",
              "2                      29.9                0.0              1.0   \n",
              "3                      28.6                1.2              1.0   \n",
              "4                      28.3                0.0              0.0   \n",
              "..                      ...                ...              ...   \n",
              "360                    28.2               13.6              1.0   \n",
              "361                    26.7                0.0              0.0   \n",
              "362                    24.1               10.3              0.0   \n",
              "363                    22.4                6.3              0.0   \n",
              "364                    29.0                0.0              0.0   \n",
              "\n",
              "     consumo_de_cerveja_(litros)  \n",
              "0                         25.461  \n",
              "1                         28.972  \n",
              "2                         30.814  \n",
              "3                         29.799  \n",
              "4                         28.900  \n",
              "..                           ...  \n",
              "360                       32.307  \n",
              "361                       26.095  \n",
              "362                       22.309  \n",
              "363                       20.467  \n",
              "364                       22.446  \n",
              "\n",
              "[365 rows x 7 columns]"
            ],
            "text/html": [
              "\n",
              "  <div id=\"df-01c6e211-2a9a-4041-a269-2c697b576b3c\">\n",
              "    <div class=\"colab-df-container\">\n",
              "      <div>\n",
              "<style scoped>\n",
              "    .dataframe tbody tr th:only-of-type {\n",
              "        vertical-align: middle;\n",
              "    }\n",
              "\n",
              "    .dataframe tbody tr th {\n",
              "        vertical-align: top;\n",
              "    }\n",
              "\n",
              "    .dataframe thead th {\n",
              "        text-align: right;\n",
              "    }\n",
              "</style>\n",
              "<table border=\"1\" class=\"dataframe\">\n",
              "  <thead>\n",
              "    <tr style=\"text-align: right;\">\n",
              "      <th></th>\n",
              "      <th>data</th>\n",
              "      <th>temperatura_media_(c)</th>\n",
              "      <th>temperatura_minima_(c)</th>\n",
              "      <th>temperatura_maxima_(c)</th>\n",
              "      <th>precipitacao_(mm)</th>\n",
              "      <th>final_de_semana</th>\n",
              "      <th>consumo_de_cerveja_(litros)</th>\n",
              "    </tr>\n",
              "  </thead>\n",
              "  <tbody>\n",
              "    <tr>\n",
              "      <th>0</th>\n",
              "      <td>2015-01-01</td>\n",
              "      <td>27.30</td>\n",
              "      <td>23.9</td>\n",
              "      <td>32.5</td>\n",
              "      <td>0.0</td>\n",
              "      <td>0.0</td>\n",
              "      <td>25.461</td>\n",
              "    </tr>\n",
              "    <tr>\n",
              "      <th>1</th>\n",
              "      <td>2015-01-02</td>\n",
              "      <td>27.02</td>\n",
              "      <td>24.5</td>\n",
              "      <td>33.5</td>\n",
              "      <td>0.0</td>\n",
              "      <td>0.0</td>\n",
              "      <td>28.972</td>\n",
              "    </tr>\n",
              "    <tr>\n",
              "      <th>2</th>\n",
              "      <td>2015-01-03</td>\n",
              "      <td>24.82</td>\n",
              "      <td>22.4</td>\n",
              "      <td>29.9</td>\n",
              "      <td>0.0</td>\n",
              "      <td>1.0</td>\n",
              "      <td>30.814</td>\n",
              "    </tr>\n",
              "    <tr>\n",
              "      <th>3</th>\n",
              "      <td>2015-01-04</td>\n",
              "      <td>23.98</td>\n",
              "      <td>21.5</td>\n",
              "      <td>28.6</td>\n",
              "      <td>1.2</td>\n",
              "      <td>1.0</td>\n",
              "      <td>29.799</td>\n",
              "    </tr>\n",
              "    <tr>\n",
              "      <th>4</th>\n",
              "      <td>2015-01-05</td>\n",
              "      <td>23.82</td>\n",
              "      <td>21.0</td>\n",
              "      <td>28.3</td>\n",
              "      <td>0.0</td>\n",
              "      <td>0.0</td>\n",
              "      <td>28.900</td>\n",
              "    </tr>\n",
              "    <tr>\n",
              "      <th>...</th>\n",
              "      <td>...</td>\n",
              "      <td>...</td>\n",
              "      <td>...</td>\n",
              "      <td>...</td>\n",
              "      <td>...</td>\n",
              "      <td>...</td>\n",
              "      <td>...</td>\n",
              "    </tr>\n",
              "    <tr>\n",
              "      <th>360</th>\n",
              "      <td>2015-12-27</td>\n",
              "      <td>24.00</td>\n",
              "      <td>21.1</td>\n",
              "      <td>28.2</td>\n",
              "      <td>13.6</td>\n",
              "      <td>1.0</td>\n",
              "      <td>32.307</td>\n",
              "    </tr>\n",
              "    <tr>\n",
              "      <th>361</th>\n",
              "      <td>2015-12-28</td>\n",
              "      <td>22.64</td>\n",
              "      <td>21.1</td>\n",
              "      <td>26.7</td>\n",
              "      <td>0.0</td>\n",
              "      <td>0.0</td>\n",
              "      <td>26.095</td>\n",
              "    </tr>\n",
              "    <tr>\n",
              "      <th>362</th>\n",
              "      <td>2015-12-29</td>\n",
              "      <td>21.68</td>\n",
              "      <td>20.3</td>\n",
              "      <td>24.1</td>\n",
              "      <td>10.3</td>\n",
              "      <td>0.0</td>\n",
              "      <td>22.309</td>\n",
              "    </tr>\n",
              "    <tr>\n",
              "      <th>363</th>\n",
              "      <td>2015-12-30</td>\n",
              "      <td>21.38</td>\n",
              "      <td>19.3</td>\n",
              "      <td>22.4</td>\n",
              "      <td>6.3</td>\n",
              "      <td>0.0</td>\n",
              "      <td>20.467</td>\n",
              "    </tr>\n",
              "    <tr>\n",
              "      <th>364</th>\n",
              "      <td>2015-12-31</td>\n",
              "      <td>24.76</td>\n",
              "      <td>20.2</td>\n",
              "      <td>29.0</td>\n",
              "      <td>0.0</td>\n",
              "      <td>0.0</td>\n",
              "      <td>22.446</td>\n",
              "    </tr>\n",
              "  </tbody>\n",
              "</table>\n",
              "<p>365 rows × 7 columns</p>\n",
              "</div>\n",
              "      <button class=\"colab-df-convert\" onclick=\"convertToInteractive('df-01c6e211-2a9a-4041-a269-2c697b576b3c')\"\n",
              "              title=\"Convert this dataframe to an interactive table.\"\n",
              "              style=\"display:none;\">\n",
              "        \n",
              "  <svg xmlns=\"http://www.w3.org/2000/svg\" height=\"24px\"viewBox=\"0 0 24 24\"\n",
              "       width=\"24px\">\n",
              "    <path d=\"M0 0h24v24H0V0z\" fill=\"none\"/>\n",
              "    <path d=\"M18.56 5.44l.94 2.06.94-2.06 2.06-.94-2.06-.94-.94-2.06-.94 2.06-2.06.94zm-11 1L8.5 8.5l.94-2.06 2.06-.94-2.06-.94L8.5 2.5l-.94 2.06-2.06.94zm10 10l.94 2.06.94-2.06 2.06-.94-2.06-.94-.94-2.06-.94 2.06-2.06.94z\"/><path d=\"M17.41 7.96l-1.37-1.37c-.4-.4-.92-.59-1.43-.59-.52 0-1.04.2-1.43.59L10.3 9.45l-7.72 7.72c-.78.78-.78 2.05 0 2.83L4 21.41c.39.39.9.59 1.41.59.51 0 1.02-.2 1.41-.59l7.78-7.78 2.81-2.81c.8-.78.8-2.07 0-2.86zM5.41 20L4 18.59l7.72-7.72 1.47 1.35L5.41 20z\"/>\n",
              "  </svg>\n",
              "      </button>\n",
              "      \n",
              "  <style>\n",
              "    .colab-df-container {\n",
              "      display:flex;\n",
              "      flex-wrap:wrap;\n",
              "      gap: 12px;\n",
              "    }\n",
              "\n",
              "    .colab-df-convert {\n",
              "      background-color: #E8F0FE;\n",
              "      border: none;\n",
              "      border-radius: 50%;\n",
              "      cursor: pointer;\n",
              "      display: none;\n",
              "      fill: #1967D2;\n",
              "      height: 32px;\n",
              "      padding: 0 0 0 0;\n",
              "      width: 32px;\n",
              "    }\n",
              "\n",
              "    .colab-df-convert:hover {\n",
              "      background-color: #E2EBFA;\n",
              "      box-shadow: 0px 1px 2px rgba(60, 64, 67, 0.3), 0px 1px 3px 1px rgba(60, 64, 67, 0.15);\n",
              "      fill: #174EA6;\n",
              "    }\n",
              "\n",
              "    [theme=dark] .colab-df-convert {\n",
              "      background-color: #3B4455;\n",
              "      fill: #D2E3FC;\n",
              "    }\n",
              "\n",
              "    [theme=dark] .colab-df-convert:hover {\n",
              "      background-color: #434B5C;\n",
              "      box-shadow: 0px 1px 3px 1px rgba(0, 0, 0, 0.15);\n",
              "      filter: drop-shadow(0px 1px 2px rgba(0, 0, 0, 0.3));\n",
              "      fill: #FFFFFF;\n",
              "    }\n",
              "  </style>\n",
              "\n",
              "      <script>\n",
              "        const buttonEl =\n",
              "          document.querySelector('#df-01c6e211-2a9a-4041-a269-2c697b576b3c button.colab-df-convert');\n",
              "        buttonEl.style.display =\n",
              "          google.colab.kernel.accessAllowed ? 'block' : 'none';\n",
              "\n",
              "        async function convertToInteractive(key) {\n",
              "          const element = document.querySelector('#df-01c6e211-2a9a-4041-a269-2c697b576b3c');\n",
              "          const dataTable =\n",
              "            await google.colab.kernel.invokeFunction('convertToInteractive',\n",
              "                                                     [key], {});\n",
              "          if (!dataTable) return;\n",
              "\n",
              "          const docLinkHtml = 'Like what you see? Visit the ' +\n",
              "            '<a target=\"_blank\" href=https://colab.research.google.com/notebooks/data_table.ipynb>data table notebook</a>'\n",
              "            + ' to learn more about interactive tables.';\n",
              "          element.innerHTML = '';\n",
              "          dataTable['output_type'] = 'display_data';\n",
              "          await google.colab.output.renderOutput(dataTable, element);\n",
              "          const docLink = document.createElement('div');\n",
              "          docLink.innerHTML = docLinkHtml;\n",
              "          element.appendChild(docLink);\n",
              "        }\n",
              "      </script>\n",
              "    </div>\n",
              "  </div>\n",
              "  "
            ]
          },
          "metadata": {},
          "execution_count": 15
        }
      ]
    },
    {
      "cell_type": "markdown",
      "source": [
        "##**Analisando a correlação entre as variáveis**"
      ],
      "metadata": {
        "id": "FgUynocStXLh"
      }
    },
    {
      "cell_type": "markdown",
      "source": [
        "###Matriz Correlação:"
      ],
      "metadata": {
        "id": "_skZDOqEWjQQ"
      }
    },
    {
      "cell_type": "code",
      "source": [
        "df.corr()"
      ],
      "metadata": {
        "colab": {
          "base_uri": "https://localhost:8080/",
          "height": 302
        },
        "id": "rXiUW4uYtcw_",
        "outputId": "5af54a92-8113-4c33-9ae3-46b9a96a2af3"
      },
      "execution_count": null,
      "outputs": [
        {
          "output_type": "execute_result",
          "data": {
            "text/plain": [
              "                             temperatura_media_(c)  temperatura_minima_(c)  \\\n",
              "temperatura_media_(c)                     1.000000                0.862752   \n",
              "temperatura_minima_(c)                    0.862752                1.000000   \n",
              "temperatura_maxima_(c)                    0.922513                0.672929   \n",
              "precipitacao_(mm)                         0.024416                0.098625   \n",
              "final_de_semana                          -0.050803               -0.059534   \n",
              "consumo_de_cerveja_(litros)               0.574615                0.392509   \n",
              "\n",
              "                             temperatura_maxima_(c)  precipitacao_(mm)  \\\n",
              "temperatura_media_(c)                      0.922513           0.024416   \n",
              "temperatura_minima_(c)                     0.672929           0.098625   \n",
              "temperatura_maxima_(c)                     1.000000          -0.049305   \n",
              "precipitacao_(mm)                         -0.049305           1.000000   \n",
              "final_de_semana                           -0.040258           0.001587   \n",
              "consumo_de_cerveja_(litros)                0.642672          -0.193784   \n",
              "\n",
              "                             final_de_semana  consumo_de_cerveja_(litros)  \n",
              "temperatura_media_(c)              -0.050803                     0.574615  \n",
              "temperatura_minima_(c)             -0.059534                     0.392509  \n",
              "temperatura_maxima_(c)             -0.040258                     0.642672  \n",
              "precipitacao_(mm)                   0.001587                    -0.193784  \n",
              "final_de_semana                     1.000000                     0.505981  \n",
              "consumo_de_cerveja_(litros)         0.505981                     1.000000  "
            ],
            "text/html": [
              "\n",
              "  <div id=\"df-0a03915c-fcce-411d-adbb-667fda35c009\">\n",
              "    <div class=\"colab-df-container\">\n",
              "      <div>\n",
              "<style scoped>\n",
              "    .dataframe tbody tr th:only-of-type {\n",
              "        vertical-align: middle;\n",
              "    }\n",
              "\n",
              "    .dataframe tbody tr th {\n",
              "        vertical-align: top;\n",
              "    }\n",
              "\n",
              "    .dataframe thead th {\n",
              "        text-align: right;\n",
              "    }\n",
              "</style>\n",
              "<table border=\"1\" class=\"dataframe\">\n",
              "  <thead>\n",
              "    <tr style=\"text-align: right;\">\n",
              "      <th></th>\n",
              "      <th>temperatura_media_(c)</th>\n",
              "      <th>temperatura_minima_(c)</th>\n",
              "      <th>temperatura_maxima_(c)</th>\n",
              "      <th>precipitacao_(mm)</th>\n",
              "      <th>final_de_semana</th>\n",
              "      <th>consumo_de_cerveja_(litros)</th>\n",
              "    </tr>\n",
              "  </thead>\n",
              "  <tbody>\n",
              "    <tr>\n",
              "      <th>temperatura_media_(c)</th>\n",
              "      <td>1.000000</td>\n",
              "      <td>0.862752</td>\n",
              "      <td>0.922513</td>\n",
              "      <td>0.024416</td>\n",
              "      <td>-0.050803</td>\n",
              "      <td>0.574615</td>\n",
              "    </tr>\n",
              "    <tr>\n",
              "      <th>temperatura_minima_(c)</th>\n",
              "      <td>0.862752</td>\n",
              "      <td>1.000000</td>\n",
              "      <td>0.672929</td>\n",
              "      <td>0.098625</td>\n",
              "      <td>-0.059534</td>\n",
              "      <td>0.392509</td>\n",
              "    </tr>\n",
              "    <tr>\n",
              "      <th>temperatura_maxima_(c)</th>\n",
              "      <td>0.922513</td>\n",
              "      <td>0.672929</td>\n",
              "      <td>1.000000</td>\n",
              "      <td>-0.049305</td>\n",
              "      <td>-0.040258</td>\n",
              "      <td>0.642672</td>\n",
              "    </tr>\n",
              "    <tr>\n",
              "      <th>precipitacao_(mm)</th>\n",
              "      <td>0.024416</td>\n",
              "      <td>0.098625</td>\n",
              "      <td>-0.049305</td>\n",
              "      <td>1.000000</td>\n",
              "      <td>0.001587</td>\n",
              "      <td>-0.193784</td>\n",
              "    </tr>\n",
              "    <tr>\n",
              "      <th>final_de_semana</th>\n",
              "      <td>-0.050803</td>\n",
              "      <td>-0.059534</td>\n",
              "      <td>-0.040258</td>\n",
              "      <td>0.001587</td>\n",
              "      <td>1.000000</td>\n",
              "      <td>0.505981</td>\n",
              "    </tr>\n",
              "    <tr>\n",
              "      <th>consumo_de_cerveja_(litros)</th>\n",
              "      <td>0.574615</td>\n",
              "      <td>0.392509</td>\n",
              "      <td>0.642672</td>\n",
              "      <td>-0.193784</td>\n",
              "      <td>0.505981</td>\n",
              "      <td>1.000000</td>\n",
              "    </tr>\n",
              "  </tbody>\n",
              "</table>\n",
              "</div>\n",
              "      <button class=\"colab-df-convert\" onclick=\"convertToInteractive('df-0a03915c-fcce-411d-adbb-667fda35c009')\"\n",
              "              title=\"Convert this dataframe to an interactive table.\"\n",
              "              style=\"display:none;\">\n",
              "        \n",
              "  <svg xmlns=\"http://www.w3.org/2000/svg\" height=\"24px\"viewBox=\"0 0 24 24\"\n",
              "       width=\"24px\">\n",
              "    <path d=\"M0 0h24v24H0V0z\" fill=\"none\"/>\n",
              "    <path d=\"M18.56 5.44l.94 2.06.94-2.06 2.06-.94-2.06-.94-.94-2.06-.94 2.06-2.06.94zm-11 1L8.5 8.5l.94-2.06 2.06-.94-2.06-.94L8.5 2.5l-.94 2.06-2.06.94zm10 10l.94 2.06.94-2.06 2.06-.94-2.06-.94-.94-2.06-.94 2.06-2.06.94z\"/><path d=\"M17.41 7.96l-1.37-1.37c-.4-.4-.92-.59-1.43-.59-.52 0-1.04.2-1.43.59L10.3 9.45l-7.72 7.72c-.78.78-.78 2.05 0 2.83L4 21.41c.39.39.9.59 1.41.59.51 0 1.02-.2 1.41-.59l7.78-7.78 2.81-2.81c.8-.78.8-2.07 0-2.86zM5.41 20L4 18.59l7.72-7.72 1.47 1.35L5.41 20z\"/>\n",
              "  </svg>\n",
              "      </button>\n",
              "      \n",
              "  <style>\n",
              "    .colab-df-container {\n",
              "      display:flex;\n",
              "      flex-wrap:wrap;\n",
              "      gap: 12px;\n",
              "    }\n",
              "\n",
              "    .colab-df-convert {\n",
              "      background-color: #E8F0FE;\n",
              "      border: none;\n",
              "      border-radius: 50%;\n",
              "      cursor: pointer;\n",
              "      display: none;\n",
              "      fill: #1967D2;\n",
              "      height: 32px;\n",
              "      padding: 0 0 0 0;\n",
              "      width: 32px;\n",
              "    }\n",
              "\n",
              "    .colab-df-convert:hover {\n",
              "      background-color: #E2EBFA;\n",
              "      box-shadow: 0px 1px 2px rgba(60, 64, 67, 0.3), 0px 1px 3px 1px rgba(60, 64, 67, 0.15);\n",
              "      fill: #174EA6;\n",
              "    }\n",
              "\n",
              "    [theme=dark] .colab-df-convert {\n",
              "      background-color: #3B4455;\n",
              "      fill: #D2E3FC;\n",
              "    }\n",
              "\n",
              "    [theme=dark] .colab-df-convert:hover {\n",
              "      background-color: #434B5C;\n",
              "      box-shadow: 0px 1px 3px 1px rgba(0, 0, 0, 0.15);\n",
              "      filter: drop-shadow(0px 1px 2px rgba(0, 0, 0, 0.3));\n",
              "      fill: #FFFFFF;\n",
              "    }\n",
              "  </style>\n",
              "\n",
              "      <script>\n",
              "        const buttonEl =\n",
              "          document.querySelector('#df-0a03915c-fcce-411d-adbb-667fda35c009 button.colab-df-convert');\n",
              "        buttonEl.style.display =\n",
              "          google.colab.kernel.accessAllowed ? 'block' : 'none';\n",
              "\n",
              "        async function convertToInteractive(key) {\n",
              "          const element = document.querySelector('#df-0a03915c-fcce-411d-adbb-667fda35c009');\n",
              "          const dataTable =\n",
              "            await google.colab.kernel.invokeFunction('convertToInteractive',\n",
              "                                                     [key], {});\n",
              "          if (!dataTable) return;\n",
              "\n",
              "          const docLinkHtml = 'Like what you see? Visit the ' +\n",
              "            '<a target=\"_blank\" href=https://colab.research.google.com/notebooks/data_table.ipynb>data table notebook</a>'\n",
              "            + ' to learn more about interactive tables.';\n",
              "          element.innerHTML = '';\n",
              "          dataTable['output_type'] = 'display_data';\n",
              "          await google.colab.output.renderOutput(dataTable, element);\n",
              "          const docLink = document.createElement('div');\n",
              "          docLink.innerHTML = docLinkHtml;\n",
              "          element.appendChild(docLink);\n",
              "        }\n",
              "      </script>\n",
              "    </div>\n",
              "  </div>\n",
              "  "
            ]
          },
          "metadata": {},
          "execution_count": 16
        }
      ]
    },
    {
      "cell_type": "code",
      "source": [
        "sns.heatmap(df.corr(),annot=True)"
      ],
      "metadata": {
        "colab": {
          "base_uri": "https://localhost:8080/",
          "height": 418
        },
        "id": "_bzY6-dmtlK6",
        "outputId": "27660cda-59b5-43d5-d355-bfab1f70ae66"
      },
      "execution_count": null,
      "outputs": [
        {
          "output_type": "execute_result",
          "data": {
            "text/plain": [
              "<matplotlib.axes._subplots.AxesSubplot at 0x7f909df126d0>"
            ]
          },
          "metadata": {},
          "execution_count": 17
        },
        {
          "output_type": "display_data",
          "data": {
            "text/plain": [
              "<Figure size 432x288 with 2 Axes>"
            ],
            "image/png": "[encoded data removed]"
          },
          "metadata": {
            "needs_background": "light"
          }
        }
      ]
    },
    {
      "cell_type": "markdown",
      "source": [
        "###A maior correlação se dá entre Consumo X Temperatura_Maxima: 0.64\n",
        "###Vejamos graficamente:"
      ],
      "metadata": {
        "id": "lu9dBpXaWzJq"
      }
    },
    {
      "cell_type": "code",
      "source": [
        "x=df['temperatura_maxima_(c)']\n",
        "y=df['consumo_de_cerveja_(litros)']"
      ],
      "metadata": {
        "id": "IHDzjg1XtlHc"
      },
      "execution_count": null,
      "outputs": []
    },
    {
      "cell_type": "markdown",
      "source": [
        "###Sempre colocando as variáveis preditoras na abcissa (x) e a variável alvo que se quer prever no eixo das ordenadas (y)."
      ],
      "metadata": {
        "id": "1LHQUaTtXEAq"
      }
    },
    {
      "cell_type": "code",
      "source": [
        "ax=sns.scatterplot(x,y)\n",
        "ax.hlines(y=y.mean(),xmin=x.min(),xmax=x.max(),linestyles='dashed')\n",
        "ax.vlines(x=x.mean(),ymin=y.min(),ymax=y.max(),linestyles='dashed')"
      ],
      "metadata": {
        "colab": {
          "base_uri": "https://localhost:8080/",
          "height": 352
        },
        "id": "9dVAdPpVtlD9",
        "outputId": "5baed2c9-aafe-4957-d72b-1a3417d967a7"
      },
      "execution_count": null,
      "outputs": [
        {
          "output_type": "stream",
          "name": "stderr",
          "text": [
            "/usr/local/lib/python3.7/dist-packages/seaborn/_decorators.py:43: FutureWarning: Pass the following variables as keyword args: x, y. From version 0.12, the only valid positional argument will be `data`, and passing other arguments without an explicit keyword will result in an error or misinterpretation.\n",
            "  FutureWarning\n"
          ]
        },
        {
          "output_type": "execute_result",
          "data": {
            "text/plain": [
              "<matplotlib.collections.LineCollection at 0x7f909b113e50>"
            ]
          },
          "metadata": {},
          "execution_count": 19
        },
        {
          "output_type": "display_data",
          "data": {
            "text/plain": [
              "<Figure size 432x288 with 1 Axes>"
            ],
            "image/png": "[encoded data removed]"
          },
          "metadata": {
            "needs_background": "light"
          }
        }
      ]
    },
    {
      "cell_type": "markdown",
      "source": [
        "###Linhas vertical e horizontal na média dos valores.\n",
        "\n",
        "###Nota-se de fato uma correlação positiva entre as variáveis."
      ],
      "metadata": {
        "id": "R8FDqrZEXLcD"
      }
    },
    {
      "cell_type": "markdown",
      "source": [
        "##**Regressão Linear**"
      ],
      "metadata": {
        "id": "Chv1Gw2TszU_"
      }
    },
    {
      "cell_type": "code",
      "source": [
        "lm = LinearRegression()"
      ],
      "metadata": {
        "id": "pky0DBsDtQCO"
      },
      "execution_count": null,
      "outputs": []
    },
    {
      "cell_type": "code",
      "source": [
        "sns.regplot(x='temperatura_maxima_(c)',y='consumo_de_cerveja_(litros)', data=df)\n",
        "plt.show()"
      ],
      "metadata": {
        "colab": {
          "base_uri": "https://localhost:8080/",
          "height": 280
        },
        "id": "MFD4KH5EuHQ-",
        "outputId": "fc86bc91-7532-41f6-f193-17185866ddc5"
      },
      "execution_count": null,
      "outputs": [
        {
          "output_type": "display_data",
          "data": {
            "text/plain": [
              "<Figure size 432x288 with 1 Axes>"
            ],
            "image/png": "[encoded data removed]"
          },
          "metadata": {
            "needs_background": "light"
          }
        }
      ]
    },
    {
      "cell_type": "code",
      "source": [
        "x=df[['temperatura_maxima_(c)']]\n",
        "y=df[['consumo_de_cerveja_(litros)']]"
      ],
      "metadata": {
        "id": "raZTHCeduPs4"
      },
      "execution_count": null,
      "outputs": []
    },
    {
      "cell_type": "code",
      "source": [
        "lm.fit(x,y)"
      ],
      "metadata": {
        "colab": {
          "base_uri": "https://localhost:8080/"
        },
        "id": "pHP8EAbzudYo",
        "outputId": "97b91e46-1b99-424f-e4b8-c01185b365da"
      },
      "execution_count": null,
      "outputs": [
        {
          "output_type": "execute_result",
          "data": {
            "text/plain": [
              "LinearRegression()"
            ]
          },
          "metadata": {},
          "execution_count": 26
        }
      ]
    },
    {
      "cell_type": "code",
      "source": [
        "y_hat = lm.predict(x)"
      ],
      "metadata": {
        "id": "46XS1iKvufjo"
      },
      "execution_count": null,
      "outputs": []
    },
    {
      "cell_type": "markdown",
      "source": [
        "###Graficamente, podemos visualisar a relação entre os valores reais e os previstos:"
      ],
      "metadata": {
        "id": "9vXyai14X96n"
      }
    },
    {
      "cell_type": "code",
      "source": [
        "ax1 = sns.distplot(df['consumo_de_cerveja_(litros)'],hist=False,color='r',label='Valor_real')\n",
        "sns.distplot(y_hat,hist=False,ax=ax1,color='b',label='Valor_previsto')\n",
        "plt.legend()\n",
        "plt.show()"
      ],
      "metadata": {
        "colab": {
          "base_uri": "https://localhost:8080/",
          "height": 369
        },
        "id": "Bp-AqxjouiuI",
        "outputId": "f2ed5dd1-e9a2-4090-f0ae-9ece0fa3eba3"
      },
      "execution_count": null,
      "outputs": [
        {
          "output_type": "stream",
          "name": "stderr",
          "text": [
            "/usr/local/lib/python3.7/dist-packages/seaborn/distributions.py:2619: FutureWarning: `distplot` is a deprecated function and will be removed in a future version. Please adapt your code to use either `displot` (a figure-level function with similar flexibility) or `kdeplot` (an axes-level function for kernel density plots).\n",
            "  warnings.warn(msg, FutureWarning)\n",
            "/usr/local/lib/python3.7/dist-packages/seaborn/distributions.py:2619: FutureWarning: `distplot` is a deprecated function and will be removed in a future version. Please adapt your code to use either `displot` (a figure-level function with similar flexibility) or `kdeplot` (an axes-level function for kernel density plots).\n",
            "  warnings.warn(msg, FutureWarning)\n"
          ]
        },
        {
          "output_type": "display_data",
          "data": {
            "text/plain": [
              "<Figure size 432x288 with 1 Axes>"
            ],
            "image/png": "[encoded data removed]"
          },
          "metadata": {
            "needs_background": "light"
          }
        }
      ]
    },
    {
      "cell_type": "markdown",
      "source": [
        "###À primeira vista, já podemos afirmar que o modelo não está muito bom. Há uma distância considerável entre os valores reais e os valores previstos.\n",
        "###Vamos obter as métricas do modelo:"
      ],
      "metadata": {
        "id": "FHe9JRKTYHOs"
      }
    },
    {
      "cell_type": "code",
      "source": [
        "print('R2: ', r2_score(y,y_hat))\n",
        "print('MAE: ', mean_absolute_error(y,y_hat))\n",
        "print('RMSE: ',np.sqrt(mean_squared_error(y,y_hat)))"
      ],
      "metadata": {
        "colab": {
          "base_uri": "https://localhost:8080/"
        },
        "id": "bUrz7Cbcuq_w",
        "outputId": "740198de-4cb1-45c0-9c47-6bf6de33033d"
      },
      "execution_count": null,
      "outputs": [
        {
          "output_type": "stream",
          "name": "stdout",
          "text": [
            "R2:  0.413027909953363\n",
            "MAE:  2.7642672738837044\n",
            "RMSE:  3.3657436535799166\n"
          ]
        }
      ]
    },
    {
      "cell_type": "markdown",
      "source": [
        "###Como era de se esperar, o score R^2 não é alto. Essa métrica representa a porcentagem da variação dos dados (variável dependente) que é explicada pelo modelo de regressão.\n",
        "\n",
        "###As métricas MAE e RMSE expressam o erro médio dos valores previstos pelo modelo. \n",
        "\n",
        "###RMSE é mais sensível a outliers: Nessa métrica, os erros são elevados ao quadrado antes de se tirar a média, portanto ela confere um peso relativamente maior aos erros mais grosseiros (outliers).\n",
        "\n",
        "###Isso significa que RMSE pode ser mais útil nos casos em que os outliers são mais indesejáveis.\n",
        "\n",
        "###Valores muito diferentes de MAE e RMSE indicam presença de outliers."
      ],
      "metadata": {
        "id": "uTyT4uuIYMPx"
      }
    },
    {
      "cell_type": "markdown",
      "source": [
        "###Como podemos melhorar nosso modelo?\n",
        "###Podemos tentar utilizar mais uma variável preditora! Para escolher, vamos olhar de novo para o Heatmap:"
      ],
      "metadata": {
        "id": "bwO7bDjXYaSd"
      }
    },
    {
      "cell_type": "code",
      "source": [
        "sns.heatmap(df.corr(),annot=True)"
      ],
      "metadata": {
        "colab": {
          "base_uri": "https://localhost:8080/",
          "height": 418
        },
        "id": "es1I4SvyKa-Y",
        "outputId": "c8986ccd-efcc-4664-d61e-72a9575433e8"
      },
      "execution_count": null,
      "outputs": [
        {
          "output_type": "execute_result",
          "data": {
            "text/plain": [
              "<matplotlib.axes._subplots.AxesSubplot at 0x7f9098a28fd0>"
            ]
          },
          "metadata": {},
          "execution_count": 31
        },
        {
          "output_type": "display_data",
          "data": {
            "text/plain": [
              "<Figure size 432x288 with 2 Axes>"
            ],
            "image/png": "[encoded data removed]"
          },
          "metadata": {
            "needs_background": "light"
          }
        }
      ]
    },
    {
      "cell_type": "markdown",
      "source": [
        "###A segunda mais alta correlação com 'consumo_de_cerveja' é 'Temperatura_Media'. Porém, a correlação entre ela e a outra variável preditora, 'Temperatura_Máxima', é muito alta. Portanto, escolher as duas contribuiria para um overfitting. \n",
        "###A próxima variável a ser considerada então seria 'Final_de_Semana' com correlação de 0.51 com o 'Consumo_de_Cerveja'."
      ],
      "metadata": {
        "id": "XRZK6w7NYe8O"
      }
    },
    {
      "cell_type": "markdown",
      "source": [
        "###Vamos repetir o procedimento agora considerando também a variável Fim_de_semana:"
      ],
      "metadata": {
        "id": "bItj7UtsZRUj"
      }
    },
    {
      "cell_type": "code",
      "source": [
        "x=df[['temperatura_maxima_(c)','final_de_semana']]\n",
        "y=df[['consumo_de_cerveja_(litros)']]"
      ],
      "metadata": {
        "id": "QojEeArmN6F-"
      },
      "execution_count": null,
      "outputs": []
    },
    {
      "cell_type": "markdown",
      "source": [
        "###Vamos ajustar a melhor reta aos dados:"
      ],
      "metadata": {
        "id": "-38NWjiCsf-H"
      }
    },
    {
      "cell_type": "code",
      "source": [
        "lm.fit(x,y)"
      ],
      "metadata": {
        "colab": {
          "base_uri": "https://localhost:8080/"
        },
        "id": "irBDy-s3OApm",
        "outputId": "5782c3ba-6459-4c59-893e-6f063eeb4a8b"
      },
      "execution_count": null,
      "outputs": [
        {
          "output_type": "execute_result",
          "data": {
            "text/plain": [
              "LinearRegression()"
            ]
          },
          "metadata": {},
          "execution_count": 34
        }
      ]
    },
    {
      "cell_type": "markdown",
      "source": [
        "###Prevendo os valores para y segundo nossa reta ajustada para cada x."
      ],
      "metadata": {
        "id": "52y2D6Cjsmeu"
      }
    },
    {
      "cell_type": "code",
      "source": [
        "y_hat = lm.predict(x)"
      ],
      "metadata": {
        "id": "yjHu0vKbOTom"
      },
      "execution_count": null,
      "outputs": []
    },
    {
      "cell_type": "markdown",
      "source": [
        "###Graficamente, podemos comparar os valores reais com os previstos:"
      ],
      "metadata": {
        "id": "sKoV3CA3ss9S"
      }
    },
    {
      "cell_type": "code",
      "source": [
        "ax1 = sns.distplot(df['consumo_de_cerveja_(litros)'],hist=False,color='r',label='Valor_real')\n",
        "sns.distplot(y_hat,hist=False,ax=ax1,color='b',label='Valor_previsto')\n",
        "plt.legend()\n",
        "plt.show()"
      ],
      "metadata": {
        "colab": {
          "base_uri": "https://localhost:8080/",
          "height": 369
        },
        "id": "BN76Jy70OWTN",
        "outputId": "a71cd0f8-1776-42ec-aee3-d3f59f85fc19"
      },
      "execution_count": null,
      "outputs": [
        {
          "output_type": "stream",
          "name": "stderr",
          "text": [
            "/usr/local/lib/python3.7/dist-packages/seaborn/distributions.py:2619: FutureWarning: `distplot` is a deprecated function and will be removed in a future version. Please adapt your code to use either `displot` (a figure-level function with similar flexibility) or `kdeplot` (an axes-level function for kernel density plots).\n",
            "  warnings.warn(msg, FutureWarning)\n",
            "/usr/local/lib/python3.7/dist-packages/seaborn/distributions.py:2619: FutureWarning: `distplot` is a deprecated function and will be removed in a future version. Please adapt your code to use either `displot` (a figure-level function with similar flexibility) or `kdeplot` (an axes-level function for kernel density plots).\n",
            "  warnings.warn(msg, FutureWarning)\n"
          ]
        },
        {
          "output_type": "display_data",
          "data": {
            "text/plain": [
              "<Figure size 432x288 with 1 Axes>"
            ],
            "image/png": "[encoded data removed]"
          },
          "metadata": {
            "needs_background": "light"
          }
        }
      ]
    },
    {
      "cell_type": "markdown",
      "source": [
        "###Aparentemente, o modelo já teve uma melhora significativa em prever os valores. Para confirmar isso, precisamos calcular as métricas:"
      ],
      "metadata": {
        "id": "POBt7Us7szTx"
      }
    },
    {
      "cell_type": "code",
      "source": [
        "print('R2: ', r2_score(y,y_hat))\n",
        "print('MAE: ', mean_absolute_error(y,y_hat))\n",
        "print('RMSE: ',np.sqrt(mean_squared_error(y,y_hat)))"
      ],
      "metadata": {
        "colab": {
          "base_uri": "https://localhost:8080/"
        },
        "id": "CjrjlgtSOeXm",
        "outputId": "7842470f-892d-468d-fd97-4ee8171e470a"
      },
      "execution_count": null,
      "outputs": [
        {
          "output_type": "stream",
          "name": "stdout",
          "text": [
            "R2:  0.6963552106338191\n",
            "MAE:  2.009239861340462\n",
            "RMSE:  2.4207794629129045\n"
          ]
        }
      ]
    },
    {
      "cell_type": "markdown",
      "source": [
        "###Efetivamente, o score R^2 subiu de 0.413027909953363 para 0.6963552106338191. \n",
        "###E os erros médios possuem valores menores e mais próximos entre si."
      ],
      "metadata": {
        "id": "ocWVe8hQs2Bf"
      }
    },
    {
      "cell_type": "markdown",
      "source": [
        "##**Regressão Polinomial**"
      ],
      "metadata": {
        "id": "9ienZ3O6PdqV"
      }
    },
    {
      "cell_type": "markdown",
      "source": [
        "###Os modelos desenvolvidos anteriormente levaram em consideração um ajuste linear entre as variáveis.\n",
        "###Uma forma de, possivelmente, melhorar o resultado é permitir que a relação entre as variáveis seja do tipo polinomial.\n",
        "###Vamos, primeiramente, começar com um polinômio de grau 2:"
      ],
      "metadata": {
        "id": "fMYXRcn3tIzw"
      }
    },
    {
      "cell_type": "code",
      "source": [
        "pr=PolynomialFeatures(degree=2)"
      ],
      "metadata": {
        "id": "NMj5L8hKPiKm"
      },
      "execution_count": null,
      "outputs": []
    },
    {
      "cell_type": "code",
      "source": [
        "x_new=pr.fit_transform(x)"
      ],
      "metadata": {
        "id": "TBq04zM_QczW"
      },
      "execution_count": null,
      "outputs": []
    },
    {
      "cell_type": "code",
      "source": [
        "lm.fit(x_new,y)"
      ],
      "metadata": {
        "colab": {
          "base_uri": "https://localhost:8080/"
        },
        "id": "rZ1Ka7e3Qe0m",
        "outputId": "1b044d13-6603-4fcb-df66-884f56b29453"
      },
      "execution_count": null,
      "outputs": [
        {
          "output_type": "execute_result",
          "data": {
            "text/plain": [
              "LinearRegression()"
            ]
          },
          "metadata": {},
          "execution_count": 41
        }
      ]
    },
    {
      "cell_type": "code",
      "source": [
        "y_hat=lm.predict(x_new)"
      ],
      "metadata": {
        "id": "jatj571BQiun"
      },
      "execution_count": null,
      "outputs": []
    },
    {
      "cell_type": "markdown",
      "source": [
        "###Graficamente:"
      ],
      "metadata": {
        "id": "mECVMO0JtPZ5"
      }
    },
    {
      "cell_type": "code",
      "source": [
        "ax1 = sns.distplot(df['consumo_de_cerveja_(litros)'],hist=False,color='r',label='Valor_real')\n",
        "sns.distplot(y_hat,hist=False,ax=ax1,color='b',label='Valor_previsto')\n",
        "plt.legend()\n",
        "plt.show()"
      ],
      "metadata": {
        "colab": {
          "base_uri": "https://localhost:8080/",
          "height": 369
        },
        "id": "-_Ov-CaFQmIf",
        "outputId": "3b61dd86-c263-4ab8-f4da-03b91a006393"
      },
      "execution_count": null,
      "outputs": [
        {
          "output_type": "stream",
          "name": "stderr",
          "text": [
            "/usr/local/lib/python3.7/dist-packages/seaborn/distributions.py:2619: FutureWarning: `distplot` is a deprecated function and will be removed in a future version. Please adapt your code to use either `displot` (a figure-level function with similar flexibility) or `kdeplot` (an axes-level function for kernel density plots).\n",
            "  warnings.warn(msg, FutureWarning)\n",
            "/usr/local/lib/python3.7/dist-packages/seaborn/distributions.py:2619: FutureWarning: `distplot` is a deprecated function and will be removed in a future version. Please adapt your code to use either `displot` (a figure-level function with similar flexibility) or `kdeplot` (an axes-level function for kernel density plots).\n",
            "  warnings.warn(msg, FutureWarning)\n"
          ]
        },
        {
          "output_type": "display_data",
          "data": {
            "text/plain": [
              "<Figure size 432x288 with 1 Axes>"
            ],
            "image/png": "[encoded data removed]"
          },
          "metadata": {
            "needs_background": "light"
          }
        }
      ]
    },
    {
      "cell_type": "markdown",
      "source": [
        "###Métricas:"
      ],
      "metadata": {
        "id": "d9keHxaStTJu"
      }
    },
    {
      "cell_type": "code",
      "source": [
        "print('R2: ', r2_score(y,y_hat))\n",
        "print('MAE: ', mean_absolute_error(y,y_hat))\n",
        "print('RMSE: ',np.sqrt(mean_squared_error(y,y_hat)))"
      ],
      "metadata": {
        "colab": {
          "base_uri": "https://localhost:8080/"
        },
        "id": "Ak0kJVAOQptH",
        "outputId": "8888861a-a638-41c2-a9d6-d714a059710d"
      },
      "execution_count": null,
      "outputs": [
        {
          "output_type": "stream",
          "name": "stdout",
          "text": [
            "R2:  0.6965655124496346\n",
            "MAE:  2.011544427344538\n",
            "RMSE:  2.419941012009553\n"
          ]
        }
      ]
    },
    {
      "cell_type": "markdown",
      "source": [
        "###O score R^2 teve um pequeno aumento de 6963552106338191 para 0.6965655124496346.\n",
        "###Vejamos para o caso de um polinômio de grau 3:"
      ],
      "metadata": {
        "id": "rUVIJZkKtYdx"
      }
    },
    {
      "cell_type": "code",
      "source": [
        "pr=PolynomialFeatures(degree=3)\n",
        "x_new=pr.fit_transform(x)\n",
        "lm.fit(x_new,y)\n",
        "y_hat=lm.predict(x_new)"
      ],
      "metadata": {
        "id": "u2SsQhG6Qw1e"
      },
      "execution_count": null,
      "outputs": []
    },
    {
      "cell_type": "markdown",
      "source": [
        "###Graficamente:"
      ],
      "metadata": {
        "id": "odQR9MCrtcP9"
      }
    },
    {
      "cell_type": "code",
      "source": [
        "ax1 = sns.distplot(df['consumo_de_cerveja_(litros)'],hist=False,color='r',label='Valor_real')\n",
        "sns.distplot(y_hat,hist=False,ax=ax1,color='b',label='Valor_previsto')\n",
        "plt.legend()\n",
        "plt.show()"
      ],
      "metadata": {
        "colab": {
          "base_uri": "https://localhost:8080/",
          "height": 369
        },
        "id": "LgkQfM1PRSSI",
        "outputId": "01996b66-5ede-4259-8fa2-9ec262f3ebe1"
      },
      "execution_count": null,
      "outputs": [
        {
          "output_type": "stream",
          "name": "stderr",
          "text": [
            "/usr/local/lib/python3.7/dist-packages/seaborn/distributions.py:2619: FutureWarning: `distplot` is a deprecated function and will be removed in a future version. Please adapt your code to use either `displot` (a figure-level function with similar flexibility) or `kdeplot` (an axes-level function for kernel density plots).\n",
            "  warnings.warn(msg, FutureWarning)\n",
            "/usr/local/lib/python3.7/dist-packages/seaborn/distributions.py:2619: FutureWarning: `distplot` is a deprecated function and will be removed in a future version. Please adapt your code to use either `displot` (a figure-level function with similar flexibility) or `kdeplot` (an axes-level function for kernel density plots).\n",
            "  warnings.warn(msg, FutureWarning)\n"
          ]
        },
        {
          "output_type": "display_data",
          "data": {
            "text/plain": [
              "<Figure size 432x288 with 1 Axes>"
            ],
            "image/png": "[encoded data removed]"
          },
          "metadata": {
            "needs_background": "light"
          }
        }
      ]
    },
    {
      "cell_type": "markdown",
      "source": [
        "###Métricas:"
      ],
      "metadata": {
        "id": "FL-kA1MrtiIQ"
      }
    },
    {
      "cell_type": "code",
      "source": [
        "print('R2: ', r2_score(y,y_hat))\n",
        "print('MAE: ', mean_absolute_error(y,y_hat))\n",
        "print('RMSE: ',np.sqrt(mean_squared_error(y,y_hat)))"
      ],
      "metadata": {
        "colab": {
          "base_uri": "https://localhost:8080/"
        },
        "id": "5hQjjvEfRWK_",
        "outputId": "a82c83e5-1c29-4971-a69c-4bd6b16ac88d"
      },
      "execution_count": null,
      "outputs": [
        {
          "output_type": "stream",
          "name": "stdout",
          "text": [
            "R2:  0.6977093803330299\n",
            "MAE:  2.009628928571805\n",
            "RMSE:  2.4153754359288957\n"
          ]
        }
      ]
    },
    {
      "cell_type": "markdown",
      "source": [
        "###Poucas mudanças!\n",
        "###Vamos tentar, por último, o polinômio de grau 5:"
      ],
      "metadata": {
        "id": "vRubbqsmtltq"
      }
    },
    {
      "cell_type": "code",
      "source": [
        "pr=PolynomialFeatures(degree=5)\n",
        "x_new=pr.fit_transform(x)\n",
        "lm.fit(x_new,y)\n",
        "y_hat=lm.predict(x_new)"
      ],
      "metadata": {
        "id": "rXm8aEHTRYIw"
      },
      "execution_count": null,
      "outputs": []
    },
    {
      "cell_type": "markdown",
      "source": [
        "###Graficamente:"
      ],
      "metadata": {
        "id": "mNGOZqQ7tpH9"
      }
    },
    {
      "cell_type": "code",
      "source": [
        "ax1 = sns.distplot(df['consumo_de_cerveja_(litros)'],hist=False,color='r',label='Valor_real')\n",
        "sns.distplot(y_hat,hist=False,ax=ax1,color='b',label='Valor_previsto')\n",
        "plt.legend()\n",
        "plt.show()"
      ],
      "metadata": {
        "colab": {
          "base_uri": "https://localhost:8080/",
          "height": 369
        },
        "id": "A4Vdr48tUUbx",
        "outputId": "e8a99785-a83f-46eb-fa97-7b5b617b07f2"
      },
      "execution_count": null,
      "outputs": [
        {
          "output_type": "stream",
          "name": "stderr",
          "text": [
            "/usr/local/lib/python3.7/dist-packages/seaborn/distributions.py:2619: FutureWarning: `distplot` is a deprecated function and will be removed in a future version. Please adapt your code to use either `displot` (a figure-level function with similar flexibility) or `kdeplot` (an axes-level function for kernel density plots).\n",
            "  warnings.warn(msg, FutureWarning)\n",
            "/usr/local/lib/python3.7/dist-packages/seaborn/distributions.py:2619: FutureWarning: `distplot` is a deprecated function and will be removed in a future version. Please adapt your code to use either `displot` (a figure-level function with similar flexibility) or `kdeplot` (an axes-level function for kernel density plots).\n",
            "  warnings.warn(msg, FutureWarning)\n"
          ]
        },
        {
          "output_type": "display_data",
          "data": {
            "text/plain": [
              "<Figure size 432x288 with 1 Axes>"
            ],
            "image/png": "[encoded data removed]"
          },
          "metadata": {
            "needs_background": "light"
          }
        }
      ]
    },
    {
      "cell_type": "markdown",
      "source": [
        "###Métricas:"
      ],
      "metadata": {
        "id": "PI0JQwwhtsJG"
      }
    },
    {
      "cell_type": "code",
      "source": [
        "print('R2: ', r2_score(y,y_hat))\n",
        "print('MAE: ', mean_absolute_error(y,y_hat))\n",
        "print('RMSE: ',np.sqrt(mean_squared_error(y,y_hat)))"
      ],
      "metadata": {
        "colab": {
          "base_uri": "https://localhost:8080/"
        },
        "id": "EkyQZLx2Zw3U",
        "outputId": "d9fd4ea0-edaf-424d-8690-e25576ee0432"
      },
      "execution_count": null,
      "outputs": [
        {
          "output_type": "stream",
          "name": "stdout",
          "text": [
            "R2:  0.7003261358348749\n",
            "MAE:  1.979978246771198\n",
            "RMSE:  2.4048984575036987\n"
          ]
        }
      ]
    },
    {
      "cell_type": "markdown",
      "source": [
        "###A seguir, vamos separar os dados em treino e teste para averiguar qual modelo tem maior acurácia na previsão dos dados."
      ],
      "metadata": {
        "id": "OiBo41gHtvra"
      }
    },
    {
      "cell_type": "markdown",
      "source": [
        "##**Treino e Teste**\n",
        "\n",
        "### A ideia aqui é, basicamente:\n",
        "* Separar os dados em uma parte para \"treino\" (70%) e outra para \"teste\" (30%)\n",
        "* Usar os dados de \"treino\" para aplicar o modelo de regressão e assim ajustar uma curva para prever novos valores.\n",
        "* Usar os dados de \"teste\" para testar o modelo gerado no passo anterior, já que sabemos exatamente o valor alvo desse conjunto de dados. \n",
        "* Avaliar o quão corretamente o modelo previu os dados de \"teste\".\n",
        "\n"
      ],
      "metadata": {
        "id": "1VHd27uLaw_a"
      }
    },
    {
      "cell_type": "markdown",
      "source": [
        "###Definindo minhas variáveis preditoras (independentes) e a variável alvo (dependente):"
      ],
      "metadata": {
        "id": "T0CN0NSzt-8L"
      }
    },
    {
      "cell_type": "code",
      "source": [
        "X = df[['temperatura_maxima_(c)','final_de_semana']]\n",
        "Y = df['consumo_de_cerveja_(litros)']"
      ],
      "metadata": {
        "id": "eGiRgaDrajeS"
      },
      "execution_count": null,
      "outputs": []
    },
    {
      "cell_type": "markdown",
      "source": [
        "###Separando os dados em 'treino' e 'teste'."
      ],
      "metadata": {
        "id": "ZkDTDVE9uDXY"
      }
    },
    {
      "cell_type": "code",
      "source": [
        "x_train, x_test, y_train, y_test = train_test_split(X, Y, test_size = 0.3,random_state=42)\n",
        "#O parâmetro stratify=Y é útil em alguns casos a fim de evitar que os dados não sejam divididos de forma desproporcional."
      ],
      "metadata": {
        "id": "Fbj57-N94e8F"
      },
      "execution_count": null,
      "outputs": []
    },
    {
      "cell_type": "markdown",
      "source": [
        "###Um problema comum de acontecer é não fixar a divisão em 'treino' e 'teste'. Dessa forma, sempre que o comando acima for rodado, diferentes conjuntos de treino e teste serão definidos, mudando os resultados subsequentes.\n",
        "###Para evitar isso, colocamos o parâmetro 'random_state=42'."
      ],
      "metadata": {
        "id": "G_ZqZ-TuuI1w"
      }
    },
    {
      "cell_type": "code",
      "source": [
        "len(x_train)"
      ],
      "metadata": {
        "colab": {
          "base_uri": "https://localhost:8080/"
        },
        "id": "UjkzAxeP4e5r",
        "outputId": "4f38cd63-f53a-49eb-889b-1ecd5daf92b7"
      },
      "execution_count": null,
      "outputs": [
        {
          "output_type": "execute_result",
          "data": {
            "text/plain": [
              "255"
            ]
          },
          "metadata": {},
          "execution_count": 119
        }
      ]
    },
    {
      "cell_type": "code",
      "source": [
        "len(x_test)"
      ],
      "metadata": {
        "colab": {
          "base_uri": "https://localhost:8080/"
        },
        "id": "OyCm2HS_4e3i",
        "outputId": "fa850816-82ed-4fd4-b631-9f7cdd0845de"
      },
      "execution_count": null,
      "outputs": [
        {
          "output_type": "execute_result",
          "data": {
            "text/plain": [
              "110"
            ]
          },
          "metadata": {},
          "execution_count": 120
        }
      ]
    },
    {
      "cell_type": "markdown",
      "source": [
        "###Vamos fazer o 'treino' e 'teste' primeiramente para o modelo de regressão linear.\n",
        "###Começamos 'treinando' o modelo para ajustar a melhor curva partindo dos dados de treino:"
      ],
      "metadata": {
        "id": "j1AUttvquZpl"
      }
    },
    {
      "cell_type": "code",
      "source": [
        "lm.fit(x_train,y_train)"
      ],
      "metadata": {
        "colab": {
          "base_uri": "https://localhost:8080/"
        },
        "id": "9ln94kd-4e1R",
        "outputId": "49fc2b81-461b-4630-91b8-c24383bb7b07"
      },
      "execution_count": null,
      "outputs": [
        {
          "output_type": "execute_result",
          "data": {
            "text/plain": [
              "LinearRegression()"
            ]
          },
          "metadata": {},
          "execution_count": 122
        }
      ]
    },
    {
      "cell_type": "markdown",
      "source": [
        "###Agora que o modelo já foi 'treinado', podemos usá-lo para prever a variável dependente y_hat a partir do conjunto de teste."
      ],
      "metadata": {
        "id": "eonet3y0ufra"
      }
    },
    {
      "cell_type": "code",
      "source": [
        "y_hat = lm.predict(x_test)"
      ],
      "metadata": {
        "id": "v8sOW5za4eyv"
      },
      "execution_count": null,
      "outputs": []
    },
    {
      "cell_type": "markdown",
      "source": [
        "###Nesse momento temos dois conjuntos de dados a serem comparados:\n",
        "\n",
        "* os reais valores de y, que chamamos de y_test, correspondentes aos x_test;\n",
        "* os valores previstos y_hat a partir de x_test utilizando o modelo treinado.\n",
        "\n",
        "###Vamos fazer essa comparação graficamente e através das métricas:"
      ],
      "metadata": {
        "id": "nQYN55kOuj47"
      }
    },
    {
      "cell_type": "code",
      "source": [
        "ax1 = sns.distplot(y_test,hist=False,color='r',label='Valor_real')\n",
        "sns.distplot(y_hat,hist=False,ax=ax1,color='b',label='Valor_previsto')\n",
        "plt.legend()\n",
        "plt.show()\n",
        "print('R2: ', r2_score(y_test,y_hat))\n",
        "print('MAE: ', mean_absolute_error(y_test,y_hat))\n",
        "print('RMSE: ',np.sqrt(mean_squared_error(y_test,y_hat)))"
      ],
      "metadata": {
        "colab": {
          "base_uri": "https://localhost:8080/",
          "height": 422
        },
        "id": "sVZCDLD6Itsg",
        "outputId": "cecdcfd5-967f-489b-f6a5-1700acfcf946"
      },
      "execution_count": null,
      "outputs": [
        {
          "output_type": "stream",
          "name": "stderr",
          "text": [
            "/usr/local/lib/python3.7/dist-packages/seaborn/distributions.py:2619: FutureWarning: `distplot` is a deprecated function and will be removed in a future version. Please adapt your code to use either `displot` (a figure-level function with similar flexibility) or `kdeplot` (an axes-level function for kernel density plots).\n",
            "  warnings.warn(msg, FutureWarning)\n",
            "/usr/local/lib/python3.7/dist-packages/seaborn/distributions.py:2619: FutureWarning: `distplot` is a deprecated function and will be removed in a future version. Please adapt your code to use either `displot` (a figure-level function with similar flexibility) or `kdeplot` (an axes-level function for kernel density plots).\n",
            "  warnings.warn(msg, FutureWarning)\n"
          ]
        },
        {
          "output_type": "display_data",
          "data": {
            "text/plain": [
              "<Figure size 432x288 with 1 Axes>"
            ],
            "image/png": "[encoded data removed]"
          },
          "metadata": {
            "needs_background": "light"
          }
        },
        {
          "output_type": "stream",
          "name": "stdout",
          "text": [
            "R2:  0.710245724555824\n",
            "MAE:  2.062380356576396\n",
            "RMSE:  2.5139920592601306\n"
          ]
        }
      ]
    },
    {
      "cell_type": "markdown",
      "source": [
        "###Vamos agora repetir o treino e teste usando a regressão polinomial de grau 2:"
      ],
      "metadata": {
        "id": "gEnHR1xuuvIa"
      }
    },
    {
      "cell_type": "code",
      "source": [
        "pr=PolynomialFeatures(degree=2)\n",
        "x_new_train=pr.fit_transform(x_train)\n",
        "lm.fit(x_new_train,y_train)\n",
        "x_new_test=pr.fit_transform(x_test)\n",
        "y_hat=lm.predict(x_new_test)"
      ],
      "metadata": {
        "id": "sQYt1PCz6XUr"
      },
      "execution_count": null,
      "outputs": []
    },
    {
      "cell_type": "code",
      "source": [
        "ax1 = sns.distplot(y_test,hist=False,color='r',label='Valor_real')\n",
        "sns.distplot(y_hat,hist=False,ax=ax1,color='b',label='Valor_previsto')\n",
        "plt.legend()\n",
        "plt.show()\n",
        "print('R2: ', r2_score(y_test,y_hat))\n",
        "print('MAE: ', mean_absolute_error(y_test,y_hat))\n",
        "print('RMSE: ',np.sqrt(mean_squared_error(y_test,y_hat)))"
      ],
      "metadata": {
        "colab": {
          "base_uri": "https://localhost:8080/",
          "height": 422
        },
        "id": "k39eo4C47P18",
        "outputId": "6e0d251d-5e3e-449a-f351-1c94a938f011"
      },
      "execution_count": null,
      "outputs": [
        {
          "output_type": "stream",
          "name": "stderr",
          "text": [
            "/usr/local/lib/python3.7/dist-packages/seaborn/distributions.py:2619: FutureWarning: `distplot` is a deprecated function and will be removed in a future version. Please adapt your code to use either `displot` (a figure-level function with similar flexibility) or `kdeplot` (an axes-level function for kernel density plots).\n",
            "  warnings.warn(msg, FutureWarning)\n",
            "/usr/local/lib/python3.7/dist-packages/seaborn/distributions.py:2619: FutureWarning: `distplot` is a deprecated function and will be removed in a future version. Please adapt your code to use either `displot` (a figure-level function with similar flexibility) or `kdeplot` (an axes-level function for kernel density plots).\n",
            "  warnings.warn(msg, FutureWarning)\n"
          ]
        },
        {
          "output_type": "display_data",
          "data": {
            "text/plain": [
              "<Figure size 432x288 with 1 Axes>"
            ],
            "image/png": "[encoded data removed]"
          },
          "metadata": {
            "needs_background": "light"
          }
        },
        {
          "output_type": "stream",
          "name": "stdout",
          "text": [
            "R2:  0.7083390523894775\n",
            "MAE:  2.062551366842364\n",
            "RMSE:  2.5222499168419086\n"
          ]
        }
      ]
    },
    {
      "cell_type": "markdown",
      "source": [
        "###Treino e teste do modelo de regressão polinomial de grau 3:"
      ],
      "metadata": {
        "id": "y9YobQvcuyvd"
      }
    },
    {
      "cell_type": "code",
      "source": [
        "pr=PolynomialFeatures(degree=3)\n",
        "x_new_train=pr.fit_transform(x_train)\n",
        "lm.fit(x_new_train,y_train)\n",
        "x_new_test=pr.fit_transform(x_test)\n",
        "y_hat=lm.predict(x_new_test)"
      ],
      "metadata": {
        "id": "zECWg34iKqMM"
      },
      "execution_count": null,
      "outputs": []
    },
    {
      "cell_type": "code",
      "source": [
        "ax1 = sns.distplot(y_test,hist=False,color='r',label='Valor_real')\n",
        "sns.distplot(y_hat,hist=False,ax=ax1,color='b',label='Valor_previsto')\n",
        "plt.legend()\n",
        "plt.show()\n",
        "print('R2: ', r2_score(y_test,y_hat))\n",
        "print('MAE: ', mean_absolute_error(y_test,y_hat))\n",
        "print('RMSE: ',np.sqrt(mean_squared_error(y_test,y_hat)))"
      ],
      "metadata": {
        "colab": {
          "base_uri": "https://localhost:8080/",
          "height": 422
        },
        "id": "ctFtvqq-KqG0",
        "outputId": "f25feba6-17a5-4702-a630-6f7ff7b43969"
      },
      "execution_count": null,
      "outputs": [
        {
          "output_type": "stream",
          "name": "stderr",
          "text": [
            "/usr/local/lib/python3.7/dist-packages/seaborn/distributions.py:2619: FutureWarning: `distplot` is a deprecated function and will be removed in a future version. Please adapt your code to use either `displot` (a figure-level function with similar flexibility) or `kdeplot` (an axes-level function for kernel density plots).\n",
            "  warnings.warn(msg, FutureWarning)\n",
            "/usr/local/lib/python3.7/dist-packages/seaborn/distributions.py:2619: FutureWarning: `distplot` is a deprecated function and will be removed in a future version. Please adapt your code to use either `displot` (a figure-level function with similar flexibility) or `kdeplot` (an axes-level function for kernel density plots).\n",
            "  warnings.warn(msg, FutureWarning)\n"
          ]
        },
        {
          "output_type": "display_data",
          "data": {
            "text/plain": [
              "<Figure size 432x288 with 1 Axes>"
            ],
            "image/png": "[encoded data removed]"
          },
          "metadata": {
            "needs_background": "light"
          }
        },
        {
          "output_type": "stream",
          "name": "stdout",
          "text": [
            "R2:  0.7086487156725013\n",
            "MAE:  2.0673362366976793\n",
            "RMSE:  2.5209105952414514\n"
          ]
        }
      ]
    },
    {
      "cell_type": "markdown",
      "source": [
        "###Treino e teste do modelo de regressão polinomial de grau 5:"
      ],
      "metadata": {
        "id": "qbGrPhopu306"
      }
    },
    {
      "cell_type": "code",
      "source": [
        "pr=PolynomialFeatures(degree=5)\n",
        "x_new_train=pr.fit_transform(x_train)\n",
        "lm.fit(x_new_train,y_train)\n",
        "x_new_test=pr.fit_transform(x_test)\n",
        "y_hat=lm.predict(x_new_test)"
      ],
      "metadata": {
        "id": "JU52_b1yKqD4"
      },
      "execution_count": null,
      "outputs": []
    },
    {
      "cell_type": "code",
      "source": [
        "ax1 = sns.distplot(y_test,hist=False,color='r',label='Valor_real')\n",
        "sns.distplot(y_hat,hist=False,ax=ax1,color='b',label='Valor_previsto')\n",
        "plt.legend()\n",
        "plt.show()\n",
        "print('R2: ', r2_score(y_test,y_hat))\n",
        "print('MAE: ', mean_absolute_error(y_test,y_hat))\n",
        "print('RMSE: ',np.sqrt(mean_squared_error(y_test,y_hat)))"
      ],
      "metadata": {
        "colab": {
          "base_uri": "https://localhost:8080/",
          "height": 422
        },
        "id": "hWZkOQp0KqBC",
        "outputId": "617bf639-139e-4c13-efba-644fd60a557d"
      },
      "execution_count": null,
      "outputs": [
        {
          "output_type": "stream",
          "name": "stderr",
          "text": [
            "/usr/local/lib/python3.7/dist-packages/seaborn/distributions.py:2619: FutureWarning: `distplot` is a deprecated function and will be removed in a future version. Please adapt your code to use either `displot` (a figure-level function with similar flexibility) or `kdeplot` (an axes-level function for kernel density plots).\n",
            "  warnings.warn(msg, FutureWarning)\n",
            "/usr/local/lib/python3.7/dist-packages/seaborn/distributions.py:2619: FutureWarning: `distplot` is a deprecated function and will be removed in a future version. Please adapt your code to use either `displot` (a figure-level function with similar flexibility) or `kdeplot` (an axes-level function for kernel density plots).\n",
            "  warnings.warn(msg, FutureWarning)\n"
          ]
        },
        {
          "output_type": "display_data",
          "data": {
            "text/plain": [
              "<Figure size 432x288 with 1 Axes>"
            ],
            "image/png": "[encoded data removed]"
          },
          "metadata": {
            "needs_background": "light"
          }
        },
        {
          "output_type": "stream",
          "name": "stdout",
          "text": [
            "R2:  0.6870182182611428\n",
            "MAE:  2.093253300970681\n",
            "RMSE:  2.6128140600883887\n"
          ]
        }
      ]
    },
    {
      "cell_type": "markdown",
      "source": [
        "###Treino e teste do modelo de regressão polinomial de grau 8:"
      ],
      "metadata": {
        "id": "EfNKdE8pu83C"
      }
    },
    {
      "cell_type": "code",
      "source": [
        "pr=PolynomialFeatures(degree=8)\n",
        "x_new_train=pr.fit_transform(x_train)\n",
        "lm.fit(x_new_train,y_train)\n",
        "x_new_test=pr.fit_transform(x_test)\n",
        "y_hat=lm.predict(x_new_test)"
      ],
      "metadata": {
        "id": "dtWnUtFgKp91"
      },
      "execution_count": null,
      "outputs": []
    },
    {
      "cell_type": "code",
      "source": [
        "ax1 = sns.distplot(y_test,hist=False,color='r',label='Valor_real')\n",
        "sns.distplot(y_hat,hist=False,ax=ax1,color='b',label='Valor_previsto')\n",
        "plt.legend()\n",
        "plt.show()\n",
        "print('R2: ', r2_score(y_test,y_hat))\n",
        "print('MAE: ', mean_absolute_error(y_test,y_hat))\n",
        "print('RMSE: ',np.sqrt(mean_squared_error(y_test,y_hat)))"
      ],
      "metadata": {
        "colab": {
          "base_uri": "https://localhost:8080/",
          "height": 422
        },
        "id": "-w2fVikaKp7Y",
        "outputId": "fd16f602-3e97-41eb-9c97-f23bacf4a3be"
      },
      "execution_count": null,
      "outputs": [
        {
          "output_type": "stream",
          "name": "stderr",
          "text": [
            "/usr/local/lib/python3.7/dist-packages/seaborn/distributions.py:2619: FutureWarning: `distplot` is a deprecated function and will be removed in a future version. Please adapt your code to use either `displot` (a figure-level function with similar flexibility) or `kdeplot` (an axes-level function for kernel density plots).\n",
            "  warnings.warn(msg, FutureWarning)\n",
            "/usr/local/lib/python3.7/dist-packages/seaborn/distributions.py:2619: FutureWarning: `distplot` is a deprecated function and will be removed in a future version. Please adapt your code to use either `displot` (a figure-level function with similar flexibility) or `kdeplot` (an axes-level function for kernel density plots).\n",
            "  warnings.warn(msg, FutureWarning)\n"
          ]
        },
        {
          "output_type": "display_data",
          "data": {
            "text/plain": [
              "<Figure size 432x288 with 1 Axes>"
            ],
            "image/png": "[encoded data removed]"
          },
          "metadata": {
            "needs_background": "light"
          }
        },
        {
          "output_type": "stream",
          "name": "stdout",
          "text": [
            "R2:  0.6371597433737461\n",
            "MAE:  2.199083645273898\n",
            "RMSE:  2.813239508130287\n"
          ]
        }
      ]
    },
    {
      "cell_type": "markdown",
      "source": [
        "###A partir dos testes feitos, o modelo com métricas mais favoráveis é o de regressão linear.\n",
        "\n",
        "###Vale notar que quando os modelos foram ajustados com o conjunto completo de dados, o modelo de regressão linear polinomial apresentaram scores melhores."
      ],
      "metadata": {
        "id": "4FoRr4E4vB1g"
      }
    },
    {
      "cell_type": "markdown",
      "source": [
        "##**Previsão para 2022**\n",
        "\n",
        "###Vamos utilizar o modelo obtido através da regressão linear para prever os valores de consumo de cerveja em datas que não estão no dataset."
      ],
      "metadata": {
        "id": "aVJtZ6Qoa1W7"
      }
    },
    {
      "cell_type": "code",
      "source": [
        "x=df[['temperatura_maxima_(c)','final_de_semana']]\n",
        "y=df[['consumo_de_cerveja_(litros)']]\n",
        "lm.fit(x,y)\n",
        "y_hat = lm.predict(x)\n",
        "print('R2: ', r2_score(y,y_hat))\n",
        "print('MAE: ', mean_absolute_error(y,y_hat))\n",
        "print('RMSE: ',np.sqrt(mean_squared_error(y,y_hat)))"
      ],
      "metadata": {
        "colab": {
          "base_uri": "https://localhost:8080/"
        },
        "id": "uGawp138a6hp",
        "outputId": "e97b8c54-bc9a-4125-f1d6-c039c46ee950"
      },
      "execution_count": null,
      "outputs": [
        {
          "output_type": "stream",
          "name": "stdout",
          "text": [
            "R2:  0.6963552106338191\n",
            "MAE:  2.009239861340462\n",
            "RMSE:  2.4207794629129045\n"
          ]
        }
      ]
    },
    {
      "cell_type": "markdown",
      "source": [
        "###Adicionando as previsões ao dataset original:"
      ],
      "metadata": {
        "id": "Bl0phfdKvG_9"
      }
    },
    {
      "cell_type": "code",
      "source": [
        "df['Consumo_previsto']=y_hat"
      ],
      "metadata": {
        "id": "pHqOWT_MNutG"
      },
      "execution_count": null,
      "outputs": []
    },
    {
      "cell_type": "markdown",
      "source": [
        "###Vamos agora usar o nosso modelo para prever o consumo de cerveja em outros dias.\n",
        "###Para isso, primeiro vamos trazer abaixo os dados de temperatura em São Paulo dos dias de interesse:"
      ],
      "metadata": {
        "id": "qC8S8JyAvKJg"
      }
    },
    {
      "cell_type": "code",
      "source": [
        "carnaval_2022 = pd.DataFrame({'data':['2022-02-26','2022-02-27','2022-02-28','2022-03-01','2022-03-02'],\n",
        "                              'temperatura_media_(c)':[23.9,24.1,26.2,25.6,24.7],'temperatura_minima_(c)':[19.1,19.8,20.6,23.2,20],\n",
        "                              'temperatura_maxima_(c)':[32.2,31.4,32.9,31.6,31.7],'precipitacao_(mm)':[0,0,0,0,7.2],'final_de_semana':[1,1,0,0,0]})\n",
        "\n",
        "#Dados obtidos do INMET (Instituto Nacional de Meteorologia). https://portal.inmet.gov.br/\n",
        "carnaval_2022"
      ],
      "metadata": {
        "colab": {
          "base_uri": "https://localhost:8080/",
          "height": 206
        },
        "id": "rkcRmRmxN7Rl",
        "outputId": "9f7a35e6-b272-4d27-d998-3c3c0f385c1c"
      },
      "execution_count": null,
      "outputs": [
        {
          "output_type": "execute_result",
          "data": {
            "text/plain": [
              "         data  temperatura_media_(c)  temperatura_minima_(c)  \\\n",
              "0  2022-02-26                   23.9                    19.1   \n",
              "1  2022-02-27                   24.1                    19.8   \n",
              "2  2022-02-28                   26.2                    20.6   \n",
              "3  2022-03-01                   25.6                    23.2   \n",
              "4  2022-03-02                   24.7                    20.0   \n",
              "\n",
              "   temperatura_maxima_(c)  precipitacao_(mm)  final_de_semana  \n",
              "0                    32.2                0.0                1  \n",
              "1                    31.4                0.0                1  \n",
              "2                    32.9                0.0                0  \n",
              "3                    31.6                0.0                0  \n",
              "4                    31.7                7.2                0  "
            ],
            "text/html": [
              "\n",
              "  <div id=\"df-165e5351-2964-409a-861d-0450a412c850\">\n",
              "    <div class=\"colab-df-container\">\n",
              "      <div>\n",
              "<style scoped>\n",
              "    .dataframe tbody tr th:only-of-type {\n",
              "        vertical-align: middle;\n",
              "    }\n",
              "\n",
              "    .dataframe tbody tr th {\n",
              "        vertical-align: top;\n",
              "    }\n",
              "\n",
              "    .dataframe thead th {\n",
              "        text-align: right;\n",
              "    }\n",
              "</style>\n",
              "<table border=\"1\" class=\"dataframe\">\n",
              "  <thead>\n",
              "    <tr style=\"text-align: right;\">\n",
              "      <th></th>\n",
              "      <th>data</th>\n",
              "      <th>temperatura_media_(c)</th>\n",
              "      <th>temperatura_minima_(c)</th>\n",
              "      <th>temperatura_maxima_(c)</th>\n",
              "      <th>precipitacao_(mm)</th>\n",
              "      <th>final_de_semana</th>\n",
              "    </tr>\n",
              "  </thead>\n",
              "  <tbody>\n",
              "    <tr>\n",
              "      <th>0</th>\n",
              "      <td>2022-02-26</td>\n",
              "      <td>23.9</td>\n",
              "      <td>19.1</td>\n",
              "      <td>32.2</td>\n",
              "      <td>0.0</td>\n",
              "      <td>1</td>\n",
              "    </tr>\n",
              "    <tr>\n",
              "      <th>1</th>\n",
              "      <td>2022-02-27</td>\n",
              "      <td>24.1</td>\n",
              "      <td>19.8</td>\n",
              "      <td>31.4</td>\n",
              "      <td>0.0</td>\n",
              "      <td>1</td>\n",
              "    </tr>\n",
              "    <tr>\n",
              "      <th>2</th>\n",
              "      <td>2022-02-28</td>\n",
              "      <td>26.2</td>\n",
              "      <td>20.6</td>\n",
              "      <td>32.9</td>\n",
              "      <td>0.0</td>\n",
              "      <td>0</td>\n",
              "    </tr>\n",
              "    <tr>\n",
              "      <th>3</th>\n",
              "      <td>2022-03-01</td>\n",
              "      <td>25.6</td>\n",
              "      <td>23.2</td>\n",
              "      <td>31.6</td>\n",
              "      <td>0.0</td>\n",
              "      <td>0</td>\n",
              "    </tr>\n",
              "    <tr>\n",
              "      <th>4</th>\n",
              "      <td>2022-03-02</td>\n",
              "      <td>24.7</td>\n",
              "      <td>20.0</td>\n",
              "      <td>31.7</td>\n",
              "      <td>7.2</td>\n",
              "      <td>0</td>\n",
              "    </tr>\n",
              "  </tbody>\n",
              "</table>\n",
              "</div>\n",
              "      <button class=\"colab-df-convert\" onclick=\"convertToInteractive('df-165e5351-2964-409a-861d-0450a412c850')\"\n",
              "              title=\"Convert this dataframe to an interactive table.\"\n",
              "              style=\"display:none;\">\n",
              "        \n",
              "  <svg xmlns=\"http://www.w3.org/2000/svg\" height=\"24px\"viewBox=\"0 0 24 24\"\n",
              "       width=\"24px\">\n",
              "    <path d=\"M0 0h24v24H0V0z\" fill=\"none\"/>\n",
              "    <path d=\"M18.56 5.44l.94 2.06.94-2.06 2.06-.94-2.06-.94-.94-2.06-.94 2.06-2.06.94zm-11 1L8.5 8.5l.94-2.06 2.06-.94-2.06-.94L8.5 2.5l-.94 2.06-2.06.94zm10 10l.94 2.06.94-2.06 2.06-.94-2.06-.94-.94-2.06-.94 2.06-2.06.94z\"/><path d=\"M17.41 7.96l-1.37-1.37c-.4-.4-.92-.59-1.43-.59-.52 0-1.04.2-1.43.59L10.3 9.45l-7.72 7.72c-.78.78-.78 2.05 0 2.83L4 21.41c.39.39.9.59 1.41.59.51 0 1.02-.2 1.41-.59l7.78-7.78 2.81-2.81c.8-.78.8-2.07 0-2.86zM5.41 20L4 18.59l7.72-7.72 1.47 1.35L5.41 20z\"/>\n",
              "  </svg>\n",
              "      </button>\n",
              "      \n",
              "  <style>\n",
              "    .colab-df-container {\n",
              "      display:flex;\n",
              "      flex-wrap:wrap;\n",
              "      gap: 12px;\n",
              "    }\n",
              "\n",
              "    .colab-df-convert {\n",
              "      background-color: #E8F0FE;\n",
              "      border: none;\n",
              "      border-radius: 50%;\n",
              "      cursor: pointer;\n",
              "      display: none;\n",
              "      fill: #1967D2;\n",
              "      height: 32px;\n",
              "      padding: 0 0 0 0;\n",
              "      width: 32px;\n",
              "    }\n",
              "\n",
              "    .colab-df-convert:hover {\n",
              "      background-color: #E2EBFA;\n",
              "      box-shadow: 0px 1px 2px rgba(60, 64, 67, 0.3), 0px 1px 3px 1px rgba(60, 64, 67, 0.15);\n",
              "      fill: #174EA6;\n",
              "    }\n",
              "\n",
              "    [theme=dark] .colab-df-convert {\n",
              "      background-color: #3B4455;\n",
              "      fill: #D2E3FC;\n",
              "    }\n",
              "\n",
              "    [theme=dark] .colab-df-convert:hover {\n",
              "      background-color: #434B5C;\n",
              "      box-shadow: 0px 1px 3px 1px rgba(0, 0, 0, 0.15);\n",
              "      filter: drop-shadow(0px 1px 2px rgba(0, 0, 0, 0.3));\n",
              "      fill: #FFFFFF;\n",
              "    }\n",
              "  </style>\n",
              "\n",
              "      <script>\n",
              "        const buttonEl =\n",
              "          document.querySelector('#df-165e5351-2964-409a-861d-0450a412c850 button.colab-df-convert');\n",
              "        buttonEl.style.display =\n",
              "          google.colab.kernel.accessAllowed ? 'block' : 'none';\n",
              "\n",
              "        async function convertToInteractive(key) {\n",
              "          const element = document.querySelector('#df-165e5351-2964-409a-861d-0450a412c850');\n",
              "          const dataTable =\n",
              "            await google.colab.kernel.invokeFunction('convertToInteractive',\n",
              "                                                     [key], {});\n",
              "          if (!dataTable) return;\n",
              "\n",
              "          const docLinkHtml = 'Like what you see? Visit the ' +\n",
              "            '<a target=\"_blank\" href=https://colab.research.google.com/notebooks/data_table.ipynb>data table notebook</a>'\n",
              "            + ' to learn more about interactive tables.';\n",
              "          element.innerHTML = '';\n",
              "          dataTable['output_type'] = 'display_data';\n",
              "          await google.colab.output.renderOutput(dataTable, element);\n",
              "          const docLink = document.createElement('div');\n",
              "          docLink.innerHTML = docLinkHtml;\n",
              "          element.appendChild(docLink);\n",
              "        }\n",
              "      </script>\n",
              "    </div>\n",
              "  </div>\n",
              "  "
            ]
          },
          "metadata": {},
          "execution_count": 151
        }
      ]
    },
    {
      "cell_type": "code",
      "source": [
        "x_2022 = carnaval_2022[['temperatura_maxima_(c)','final_de_semana']]"
      ],
      "metadata": {
        "id": "Vjbt6rxdN9yH"
      },
      "execution_count": null,
      "outputs": []
    },
    {
      "cell_type": "code",
      "source": [
        "y_hat_2022 = lm.predict(x_2022)"
      ],
      "metadata": {
        "id": "IKwsKlziPtnE"
      },
      "execution_count": null,
      "outputs": []
    },
    {
      "cell_type": "code",
      "source": [
        "carnaval_2022['consumo']=y_hat_2022"
      ],
      "metadata": {
        "id": "YGPWJiejQQ_4"
      },
      "execution_count": null,
      "outputs": []
    },
    {
      "cell_type": "code",
      "source": [
        "carnaval_2022"
      ],
      "metadata": {
        "colab": {
          "base_uri": "https://localhost:8080/",
          "height": 206
        },
        "id": "Pm7MrLeCQaR-",
        "outputId": "8983f6f8-d710-47fb-8c7d-81b3125bd674"
      },
      "execution_count": null,
      "outputs": [
        {
          "output_type": "execute_result",
          "data": {
            "text/plain": [
              "         data  temperatura_media_(c)  temperatura_minima_(c)  \\\n",
              "0  2022-02-26                   23.9                    19.1   \n",
              "1  2022-02-27                   24.1                    19.8   \n",
              "2  2022-02-28                   26.2                    20.6   \n",
              "3  2022-03-01                   25.6                    23.2   \n",
              "4  2022-03-02                   24.7                    20.0   \n",
              "\n",
              "   temperatura_maxima_(c)  precipitacao_(mm)  final_de_semana    consumo  \n",
              "0                    32.2                0.0                1  32.890515  \n",
              "1                    31.4                0.0                1  32.349156  \n",
              "2                    32.9                0.0                0  28.179491  \n",
              "3                    31.6                0.0                0  27.299783  \n",
              "4                    31.7                7.2                0  27.367453  "
            ],
            "text/html": [
              "\n",
              "  <div id=\"df-3ee4dd10-c4c2-4423-8356-fdb8a0d81c78\">\n",
              "    <div class=\"colab-df-container\">\n",
              "      <div>\n",
              "<style scoped>\n",
              "    .dataframe tbody tr th:only-of-type {\n",
              "        vertical-align: middle;\n",
              "    }\n",
              "\n",
              "    .dataframe tbody tr th {\n",
              "        vertical-align: top;\n",
              "    }\n",
              "\n",
              "    .dataframe thead th {\n",
              "        text-align: right;\n",
              "    }\n",
              "</style>\n",
              "<table border=\"1\" class=\"dataframe\">\n",
              "  <thead>\n",
              "    <tr style=\"text-align: right;\">\n",
              "      <th></th>\n",
              "      <th>data</th>\n",
              "      <th>temperatura_media_(c)</th>\n",
              "      <th>temperatura_minima_(c)</th>\n",
              "      <th>temperatura_maxima_(c)</th>\n",
              "      <th>precipitacao_(mm)</th>\n",
              "      <th>final_de_semana</th>\n",
              "      <th>consumo</th>\n",
              "    </tr>\n",
              "  </thead>\n",
              "  <tbody>\n",
              "    <tr>\n",
              "      <th>0</th>\n",
              "      <td>2022-02-26</td>\n",
              "      <td>23.9</td>\n",
              "      <td>19.1</td>\n",
              "      <td>32.2</td>\n",
              "      <td>0.0</td>\n",
              "      <td>1</td>\n",
              "      <td>32.890515</td>\n",
              "    </tr>\n",
              "    <tr>\n",
              "      <th>1</th>\n",
              "      <td>2022-02-27</td>\n",
              "      <td>24.1</td>\n",
              "      <td>19.8</td>\n",
              "      <td>31.4</td>\n",
              "      <td>0.0</td>\n",
              "      <td>1</td>\n",
              "      <td>32.349156</td>\n",
              "    </tr>\n",
              "    <tr>\n",
              "      <th>2</th>\n",
              "      <td>2022-02-28</td>\n",
              "      <td>26.2</td>\n",
              "      <td>20.6</td>\n",
              "      <td>32.9</td>\n",
              "      <td>0.0</td>\n",
              "      <td>0</td>\n",
              "      <td>28.179491</td>\n",
              "    </tr>\n",
              "    <tr>\n",
              "      <th>3</th>\n",
              "      <td>2022-03-01</td>\n",
              "      <td>25.6</td>\n",
              "      <td>23.2</td>\n",
              "      <td>31.6</td>\n",
              "      <td>0.0</td>\n",
              "      <td>0</td>\n",
              "      <td>27.299783</td>\n",
              "    </tr>\n",
              "    <tr>\n",
              "      <th>4</th>\n",
              "      <td>2022-03-02</td>\n",
              "      <td>24.7</td>\n",
              "      <td>20.0</td>\n",
              "      <td>31.7</td>\n",
              "      <td>7.2</td>\n",
              "      <td>0</td>\n",
              "      <td>27.367453</td>\n",
              "    </tr>\n",
              "  </tbody>\n",
              "</table>\n",
              "</div>\n",
              "      <button class=\"colab-df-convert\" onclick=\"convertToInteractive('df-3ee4dd10-c4c2-4423-8356-fdb8a0d81c78')\"\n",
              "              title=\"Convert this dataframe to an interactive table.\"\n",
              "              style=\"display:none;\">\n",
              "        \n",
              "  <svg xmlns=\"http://www.w3.org/2000/svg\" height=\"24px\"viewBox=\"0 0 24 24\"\n",
              "       width=\"24px\">\n",
              "    <path d=\"M0 0h24v24H0V0z\" fill=\"none\"/>\n",
              "    <path d=\"M18.56 5.44l.94 2.06.94-2.06 2.06-.94-2.06-.94-.94-2.06-.94 2.06-2.06.94zm-11 1L8.5 8.5l.94-2.06 2.06-.94-2.06-.94L8.5 2.5l-.94 2.06-2.06.94zm10 10l.94 2.06.94-2.06 2.06-.94-2.06-.94-.94-2.06-.94 2.06-2.06.94z\"/><path d=\"M17.41 7.96l-1.37-1.37c-.4-.4-.92-.59-1.43-.59-.52 0-1.04.2-1.43.59L10.3 9.45l-7.72 7.72c-.78.78-.78 2.05 0 2.83L4 21.41c.39.39.9.59 1.41.59.51 0 1.02-.2 1.41-.59l7.78-7.78 2.81-2.81c.8-.78.8-2.07 0-2.86zM5.41 20L4 18.59l7.72-7.72 1.47 1.35L5.41 20z\"/>\n",
              "  </svg>\n",
              "      </button>\n",
              "      \n",
              "  <style>\n",
              "    .colab-df-container {\n",
              "      display:flex;\n",
              "      flex-wrap:wrap;\n",
              "      gap: 12px;\n",
              "    }\n",
              "\n",
              "    .colab-df-convert {\n",
              "      background-color: #E8F0FE;\n",
              "      border: none;\n",
              "      border-radius: 50%;\n",
              "      cursor: pointer;\n",
              "      display: none;\n",
              "      fill: #1967D2;\n",
              "      height: 32px;\n",
              "      padding: 0 0 0 0;\n",
              "      width: 32px;\n",
              "    }\n",
              "\n",
              "    .colab-df-convert:hover {\n",
              "      background-color: #E2EBFA;\n",
              "      box-shadow: 0px 1px 2px rgba(60, 64, 67, 0.3), 0px 1px 3px 1px rgba(60, 64, 67, 0.15);\n",
              "      fill: #174EA6;\n",
              "    }\n",
              "\n",
              "    [theme=dark] .colab-df-convert {\n",
              "      background-color: #3B4455;\n",
              "      fill: #D2E3FC;\n",
              "    }\n",
              "\n",
              "    [theme=dark] .colab-df-convert:hover {\n",
              "      background-color: #434B5C;\n",
              "      box-shadow: 0px 1px 3px 1px rgba(0, 0, 0, 0.15);\n",
              "      filter: drop-shadow(0px 1px 2px rgba(0, 0, 0, 0.3));\n",
              "      fill: #FFFFFF;\n",
              "    }\n",
              "  </style>\n",
              "\n",
              "      <script>\n",
              "        const buttonEl =\n",
              "          document.querySelector('#df-3ee4dd10-c4c2-4423-8356-fdb8a0d81c78 button.colab-df-convert');\n",
              "        buttonEl.style.display =\n",
              "          google.colab.kernel.accessAllowed ? 'block' : 'none';\n",
              "\n",
              "        async function convertToInteractive(key) {\n",
              "          const element = document.querySelector('#df-3ee4dd10-c4c2-4423-8356-fdb8a0d81c78');\n",
              "          const dataTable =\n",
              "            await google.colab.kernel.invokeFunction('convertToInteractive',\n",
              "                                                     [key], {});\n",
              "          if (!dataTable) return;\n",
              "\n",
              "          const docLinkHtml = 'Like what you see? Visit the ' +\n",
              "            '<a target=\"_blank\" href=https://colab.research.google.com/notebooks/data_table.ipynb>data table notebook</a>'\n",
              "            + ' to learn more about interactive tables.';\n",
              "          element.innerHTML = '';\n",
              "          dataTable['output_type'] = 'display_data';\n",
              "          await google.colab.output.renderOutput(dataTable, element);\n",
              "          const docLink = document.createElement('div');\n",
              "          docLink.innerHTML = docLinkHtml;\n",
              "          element.appendChild(docLink);\n",
              "        }\n",
              "      </script>\n",
              "    </div>\n",
              "  </div>\n",
              "  "
            ]
          },
          "metadata": {},
          "execution_count": 155
        }
      ]
    },
    {
      "cell_type": "markdown",
      "source": [
        "#**Conclusão**\n",
        "\n",
        "##Assim, de acordo com as previsões feitas pelo modelo, o melhor dia para vender cerveja seria no sábado de carnaval (2022-02-26). É interessante notar que, a temperatura máxima e a temperatura média do dia 28 (segunda-feira) são mais altas do que do dia 26. Porém, o fato de ser final de semana teve papel decisivo no consumo previsto."
      ],
      "metadata": {
        "id": "zHaq7meLSsFK"
      }
    }
  ]
}